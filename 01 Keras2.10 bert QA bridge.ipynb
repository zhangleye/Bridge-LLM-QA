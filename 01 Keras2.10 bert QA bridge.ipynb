{
 "cells": [
  {
   "cell_type": "code",
   "execution_count": 1,
   "id": "32659b1c-3127-4698-8c2d-a50b21f88ac5",
   "metadata": {},
   "outputs": [],
   "source": [
    "import os\n",
    "import re \n",
    "import json \n",
    "import string \n",
    "import numpy as np\n",
    "import tensorflow as tf\n",
    "from tensorflow import keras\n",
    "from tensorflow.keras import layers\n",
    "from tokenizers import BertWordPieceTokenizer\n",
    "from transformers import BertTokenizer, TFBertModel, BertConfig\n",
    "\n",
    "import pandas as pd"
   ]
  },
  {
   "cell_type": "code",
   "execution_count": 2,
   "id": "6556f2fd-be25-411c-9a77-6e9f66adad43",
   "metadata": {},
   "outputs": [
    {
     "name": "stderr",
     "output_type": "stream",
     "text": [
      "C:\\Users\\magic\\miniconda3\\envs\\tf2.10GPU_py3.10.13\\lib\\site-packages\\huggingface_hub\\file_download.py:1132: FutureWarning: `resume_download` is deprecated and will be removed in version 1.0.0. Downloads always resume when possible. If you want to force a new download, use `force_download=True`.\n",
      "  warnings.warn(\n"
     ]
    },
    {
     "data": {
      "text/plain": [
       "('bert_base_chinese/tokenizer_config.json',\n",
       " 'bert_base_chinese/special_tokens_map.json',\n",
       " 'bert_base_chinese/vocab.txt',\n",
       " 'bert_base_chinese/added_tokens.json')"
      ]
     },
     "execution_count": 2,
     "metadata": {},
     "output_type": "execute_result"
    }
   ],
   "source": [
    "learning_rate=7.5e-6 \n",
    "max_len = 512 \n",
    "configuration = BertConfig() \n",
    "slow_tokenizer = BertTokenizer.from_pretrained(\"bert-base-chinese\")\n",
    "\n",
    "save_path = \"bert_base_chinese/\"\n",
    "if not os.path.exists(save_path):\n",
    "     os.makedirs(save_path)\n",
    "slow_tokenizer.save_pretrained(save_path) \n"
   ]
  },
  {
   "cell_type": "code",
   "execution_count": 3,
   "id": "50174500-8c6b-4c71-a266-3b46b9c818f8",
   "metadata": {},
   "outputs": [
    {
     "data": {
      "text/plain": [
       "'\\n中文文本编码的处理方法如下：\\n利用transformers库中的BertTokenizer实现分词编码，实例化一个tokenizer，载入预先下载好的词表，调用encode函数进行编码，encode函数有5个常用参数：\\n        ① text： 需要编码的文本；\\n        ② add_special_tokens： 是否添加特殊token，即CLS分类token和SEP分隔token；默认True。\\n        ③ max_length： 文本的最大长度，根据需要处理的最长文本长度设置；\\n        ④ pad_to_max_length： 是否填充到最大长度，以0补位；默认False。\\n        ⑤ return_tensors：tensor类型4种[‘pt’, ‘tf’, ‘np’, ‘jax’]即pytorch、tensorflow、int32数组和jax；不指定return_tensors类型则返回列表格式。\\n四种tensor类型如下：\\n1、pytorch tensor：\\ninput_ids:\\n tensor([[ 101,  671, 2573, 3299, 5862, 8024,  671, 2573, 6716, 7231, 8024,  671,\\n         2573, 1068, 2255, 7410, 3868, 6814,  511, 3470, 6864, 6814, 2145, 8024,\\n         2809, 2094, 5442,  679, 7309, 1728, 3362,  511,  102,    0,    0,    0,\\n            0,    0,    0,    0,    0,    0,    0,    0,    0,    0,    0,    0,\\n            ......\\n            0,    0,    0,    0,    0,    0,    0,    0]])\\n2、tensorflow tensor：\\ninput_ids:\\n tf.Tensor(\\n[[ 101  671 2573 3299 5862 8024  671 2573 6716 7231 8024  671 2573 1068\\n  2255 7410 3868 6814  511 3470 6864 6814 2145 8024 2809 2094 5442  679\\n  7309 1728 3362  511  102    0    0    0    0    0    0    0    0    0\\n     0    0    0    0    0    0    0    0    0    0    0    0    0    0\\n     ......\\n     0    0]], shape=(1, 128), dtype=int32)\\n3、int32数组形式：\\ninput_ids:\\n [[ 101  671 2573 3299 5862 8024  671 2573 6716 7231 8024  671 2573 1068\\n  2255 7410 3868 6814  511 3470 6864 6814 2145 8024 2809 2094 5442  679\\n  7309 1728 3362  511  102    0    0    0    0    0    0    0    0    0\\n     0    0    0    0    0    0    0    0    0    0    0    0    0    0\\n     ......\\n     0    0]]\\n4、 jax tensor：出错【可能需要指定后端才行】\\n5、不指定return_tensors，则返回列表：\\ninput_ids:\\n [101, 671, 2573, 3299, 5862, 8024, 671, 2573, 6716, 7231, 8024, 671, 2573, 1068, 2255, \\n 7410, 3868, 6814, 511, 3470, 6864, 6814, 2145, 8024, 2809, 2094, 5442, 679, 7309, 1728, \\n 3362, 511, 102, 0, 0, 0, 0, 0, 0, 0, 0, 0, 0, 0, 0, 0, 0, 0, 0, 0, 0, 0, 0, 0, 0, 0, 0, \\n ......\\n 0, 0, 0, 0, 0, 0, 0, 0, 0, 0, 0, 0, 0]\\n\\n        \\n示例代码：\\nfrom transformers import BertTokenizer\\ntokenizer = BertTokenizer.from_pretrained(\\'./bert_base_chinese\\') #其实就是调用已经下载的词汇表\"bert_base_chinese/vocab.txt\"\\ntext = \\'一念月落，一念身错，一念关山难涉过。棋逢过客，执子者不问因果。\\'\\ninput_ids = tokenizer.encode(\\n    text,\\n    add_special_tokens=True,\\n    max_length=128,\\n    pad_to_max_length=True,\\n    return_tensors=\\'pt\\'\\n    )\\nprint(\\'text:\\n\\', text)\\nprint(\\'text字符数:\\', len(text))\\nprint(\\'input_ids:\\n\\', input_ids)  \\nprint(\\'input_ids大小:\\', input_ids.size())\\n输出：\\ntext:\\n 一念月落，一念身错，一念关山难涉过。棋逢过客，执子者不问因果。\\ntext字符数: 31\\ninput_ids:\\n tensor([[ 101,  671, 2573, 3299, 5862, 8024,  671, 2573, 6716, 7231, 8024,  671,\\n         2573, 1068, 2255, 7410, 3868, 6814,  511, 3470, 6864, 6814, 2145, 8024,\\n         2809, 2094, 5442,  679, 7309, 1728, 3362,  511,  102,    0,    0,    0,\\n            0,    0,    0,    0,    0,    0,    0,    0,    0,    0,    0,    0,\\n            0,    0,    0,    0,    0,    0,    0,    0,    0,    0,    0,    0,\\n            0,    0,    0,    0,    0,    0,    0,    0,    0,    0,    0,    0,\\n            0,    0,    0,    0,    0,    0,    0,    0,    0,    0,    0,    0,\\n            0,    0,    0,    0,    0,    0,    0,    0,    0,    0,    0,    0,\\n            0,    0,    0,    0,    0,    0,    0,    0,    0,    0,    0,    0,\\n            0,    0,    0,    0,    0,    0,    0,    0,    0,    0,    0,    0,\\n            0,    0,    0,    0,    0,    0,    0,    0]])\\ninput_ids大小: torch.Size([1, 128])\\n5种特殊token标记：\\n        [PAD]: 填充标记，编码为0；\\n        [UNK]: 未知字符标记，即该字不在所定义的词表中，编码为100；\\n        [CLS]: 分类标记，蕴含整个文本的含义，编码为101；\\n        [SEP]: 分隔字符标记，用于断开两句话，编码为102；\\n        [MASK]: 掩码标记，该字被遮挡，编码为103；\\n\\nfrom transformers import BertTokenizer\\ntokenizer = BertTokenizer.from_pretrained(\\'./bert_base_chinese\\') #其实就是调用已经下载的词汇表\"bert_base_chinese/vocab.txt\"\\ntext = \\'一念月落，一念身错，一念关山难涉过。棋逢过客，执子者不问因果。\\'\\ntokens = tokenizer.tokenize(text)\\ninput_ids = tokenizer.convert_tokens_to_ids(tokens)\\ntokenxx = tokenizer.convert_ids_to_tokens(input_ids)\\nprint(\\'中文分词:\\n\\', tokens)\\nprint(\\'分词-->编码:\\n\\', input_ids)\\nprint(\\'编码-->分词:\\n\\', tokenxx)\\nprint(\\'tokenizer.decode(input_ids)=\\',tokenizer.decode(input_ids))\\n中文分词:\\n [\\'一\\', \\'念\\', \\'月\\', \\'落\\', \\'，\\', \\'一\\', \\'念\\', \\'身\\', \\'错\\', \\'，\\', \\'一\\', \\'念\\', \\'关\\', \\'山\\', \\'难\\', \\'涉\\', \\'过\\', \\'。\\', \\'棋\\', \\'逢\\', \\'过\\', \\'客\\', \\'，\\', \\'执\\', \\'子\\', \\'者\\', \\'不\\', \\'问\\', \\'因\\', \\'果\\', \\'。\\']\\n分词-->编码:\\n [671, 2573, 3299, 5862, 8024, 671, 2573, 6716, 7231, 8024, 671, 2573, 1068, 2255, 7410, 3868, 6814, 511, 3470, 6864, 6814, 2145, 8024, 2809, 2094, 5442, 679, 7309, 1728, 3362, 511]\\n编码-->分词:\\n [\\'一\\', \\'念\\', \\'月\\', \\'落\\', \\'，\\', \\'一\\', \\'念\\', \\'身\\', \\'错\\', \\'，\\', \\'一\\', \\'念\\', \\'关\\', \\'山\\', \\'难\\', \\'涉\\', \\'过\\', \\'。\\', \\'棋\\', \\'逢\\', \\'过\\', \\'客\\', \\'，\\', \\'执\\', \\'子\\', \\'者\\', \\'不\\', \\'问\\', \\'因\\', \\'果\\', \\'。\\']\\ntokenizer.decode(input_ids)= 一 念 月 落 ， 一 念 身 错 ， 一 念 关 山 难 涉 过 。 棋 逢 过 客 ， 执 子 者 不 问 因 果 。\\n\\n除了BertTokenizer，还有AutoTokenizer也是常用的。\\n原文链接：https://blog.csdn.net/qq_43426908/article/details/134748200\\n'"
      ]
     },
     "execution_count": 3,
     "metadata": {},
     "output_type": "execute_result"
    }
   ],
   "source": [
    "tokenizer = BertWordPieceTokenizer(\"bert_base_chinese/vocab.txt\", lowercase=True) \n"
   ]
  },
  {
   "cell_type": "code",
   "execution_count": 4,
   "id": "e81efaae-97dc-49d8-b382-1defeeef639b",
   "metadata": {},
   "outputs": [
    {
     "name": "stdout",
     "output_type": "stream",
     "text": [
      "                                             context  \\\n",
      "0  3.\\t1.1 公路桥涵应根据公路功能和技术等级，考虑因地制宜、就地取材、便于施工和养护等因...   \n",
      "1  3.\\t1.1 公路桥涵应根据公路功能和技术等级，考虑因地制宜、就地取材、便于施工和养护等因...   \n",
      "2  3.\\t1.1 公路桥涵应根据公路功能和技术等级，考虑因地制宜、就地取材、便于施工和养护等因...   \n",
      "3  3.\\t1.1 公路桥涵应根据公路功能和技术等级，考虑因地制宜、就地取材、便于施工和养护等因...   \n",
      "4  3.\\t1.1 公路桥涵应根据公路功能和技术等级，考虑因地制宜、就地取材、便于施工和养护等因...   \n",
      "\n",
      "                       question                                answer  \\\n",
      "0             公路桥涵总体设计时应考虑哪些因素？                    因地制宜、就地取材、便于施工和养护等   \n",
      "1  公路桥涵在多长时间内应满足规定的正常交通荷载通行的需要？                                设计使用年限   \n",
      "2             中小桥涵线形设计应该符合什么规定？                             路线设计的总体要求   \n",
      "3              大桥线形设计应综合考虑哪些因素？  路线总体走向、桥区地质、地形、安全通行、通航、已有建筑设施、环境敏感区等   \n",
      "4             特大桥线形设计应综合考虑哪些因素？  路线总体走向、桥区地质、地形、安全通行、通航、已有建筑设施、环境敏感区等   \n",
      "\n",
      "   index_of_answer  number_of_same_answer  \n",
      "0                0                      1  \n",
      "1                0                      1  \n",
      "2                0                      1  \n",
      "3                0                      1  \n",
      "4                0                      1  \n",
      "<class 'pandas.core.frame.DataFrame'>\n",
      "RangeIndex: 226 entries, 0 to 225\n",
      "Data columns (total 5 columns):\n",
      " #   Column                 Non-Null Count  Dtype \n",
      "---  ------                 --------------  ----- \n",
      " 0   context                226 non-null    object\n",
      " 1   question               226 non-null    object\n",
      " 2   answer                 226 non-null    object\n",
      " 3   index_of_answer        226 non-null    int64 \n",
      " 4   number_of_same_answer  226 non-null    int64 \n",
      "dtypes: int64(2), object(3)\n",
      "memory usage: 9.0+ KB\n",
      "None \n",
      "\n",
      "200 20 6\n",
      "                                               context  \\\n",
      "20   3.1.\\t4\\t公路桥涵应根据不同种类的作用及其对桥涵的影响、桥涵所处的环境条件，考虑以下...   \n",
      "215  3. 8.1 桥涵应设置维修养护通道。特大、大桥应根据需要设置必要的检查平台、扶梯、内照明、...   \n",
      "23   3. 2. 1 桥梁应根据公路功能、等级、通行能力及抗洪防灾要求，结合水文、地质、通航、环境...   \n",
      "17   3.1.\\t4\\t公路桥涵应根据不同种类的作用及其对桥涵的影响、桥涵所处的环境条件，考虑以下...   \n",
      "157  3. 5. 4\\t桥台侧墙后端和悬臂梁桥的悬臂端深入桥头锥坡顶点以内的长度，均不应小于0.7...   \n",
      "\n",
      "                        question             answer  index_of_answer  \\\n",
      "20     考虑养护需要，公路桥涵应按照什么样的要求进行设计？    可到达、可检查、可维修和可更换                0   \n",
      "215             大桥何处必要时可设置水尺或标志？               桥墩台旁                0   \n",
      "23              桥梁综合设计应根据哪些要求进行？  公路功能、等级、通行能力及抗洪防灾                0   \n",
      "17      根据需要，公路桥梁钢结构部分应进行什么样的设计？                抗疲劳                0   \n",
      "157  桥台侧墙后端深入桥头锥坡顶点以内的长度，不应小于多少？              0.75m                0   \n",
      "\n",
      "     number_of_same_answer  \n",
      "20                       1  \n",
      "215                      1  \n",
      "23                       1  \n",
      "17                       1  \n",
      "157                      1  \n"
     ]
    },
    {
     "data": {
      "text/plain": [
       "\"\\nprint(train_set.head())\\nprint(validate_set.head())\\nprint(test_set.head())\\nprint(test_set['answer'])\\n\""
      ]
     },
     "execution_count": 4,
     "metadata": {},
     "output_type": "execute_result"
    }
   ],
   "source": [
    "#文本格式的数据集\n",
    "df = pd.read_excel('bridge QA 2024.07.25.xlsx')\n",
    "print(df.head())\n",
    "print(df.info(),'\\n')\n",
    "\n",
    "def split_data(data, validate_number=20, test_number=6): \n",
    "    shuffled_indices = np.random.permutation(len(data))\n",
    "    test_indices = shuffled_indices[:test_number]\n",
    "    validate_indices = shuffled_indices[test_number:test_number+validate_number]\n",
    "    train_indices = shuffled_indices[test_number+validate_number:]\n",
    "    return data.iloc[train_indices], data.iloc[validate_indices], data.iloc[test_indices]\n",
    "train_set, validate_set, test_set = split_data(df, validate_number=20, test_number=6)\n",
    "print(len(train_set),len(validate_set),len(test_set)) #200，20，6\n",
    "print( validate_set.head() )\n"
   ]
  },
  {
   "cell_type": "code",
   "execution_count": 5,
   "id": "f44d4e3d-d824-48fb-8ae2-c71b6a4e76f9",
   "metadata": {},
   "outputs": [],
   "source": [
    "def start_and_end_token_idx(context_ids, answer_ids, index_of_answer):\n",
    "    answer_ids=answer_ids[1:-1] \n",
    "    answer_ids_len=len(answer_ids)\n",
    "\n",
    "    answer_ids = ' '.join([str(i) for i in answer_ids]) \n",
    "\n",
    "    context_ids = ' '.join([str(i) for i in context_ids]) \n",
    " \n",
    "    context_ids=context_ids.replace(answer_ids,\"#\") \n",
    "\n",
    "    context_ids=context_ids.split() \n",
    " \n",
    "    \n",
    "    times=0\n",
    "    for i,value in enumerate(context_ids):\n",
    "        if value==\"#\":\n",
    "            if times==index_of_answer:\n",
    "                return i+(answer_ids_len-1)*times, i+(answer_ids_len-1)*times+(answer_ids_len-1)    \n",
    "            times +=1\n"
   ]
  },
  {
   "cell_type": "code",
   "execution_count": 6,
   "id": "7461e5b2-b218-4a13-9801-cbbbab10a1a3",
   "metadata": {},
   "outputs": [],
   "source": [
    "class BridgeExample: \n",
    "     def __init__(self, question_text, context_text, answer_text, index_of_answer):\n",
    "         self.question = question_text\n",
    "         self.context = context_text\n",
    "         self.answer = answer_text\n",
    "         self.index_of_answer = index_of_answer \n",
    "         self.skip = False \n",
    "     def preprocess(self):\n",
    "         context = \" \".join(str(self.context).split()) \n",
    "         question = \" \".join(str(self.question).split()) \n",
    "         answer = \" \".join(str(self.answer).split())\n",
    "\n",
    "         tokenized_question = tokenizer.encode(question)\n",
    "         tokenized_context = tokenizer.encode(context)\n",
    "         tokenized_answer = tokenizer.encode(answer)\n",
    "\n",
    "         start_token_idx,end_token_idx=start_and_end_token_idx(tokenized_context.ids, tokenized_answer.ids, self.index_of_answer)\n",
    "\n",
    "\n",
    "         input_ids = tokenized_context.ids + tokenized_question.ids[1:] \n",
    "         token_type_ids = [0] * len(tokenized_context.ids) + [1] * len(tokenized_question.ids[1:]) \n",
    "         attention_mask = [1] * len(input_ids) \n",
    "\n",
    "\n",
    "\n",
    "         padding_length = max_len - len(input_ids)\n",
    "         if padding_length > 0: \n",
    "             input_ids = input_ids + ([0] * padding_length) \n",
    "             attention_mask = attention_mask + ([0] * padding_length) \n",
    "             token_type_ids = token_type_ids + ([0] * padding_length)\n",
    "         elif padding_length < 0:\n",
    "             self.skip = True\n",
    "             print(\"There is an example skip because of padding_length < 0\")\n",
    "             return\n",
    "         \n",
    "\n",
    "         self.input_ids = input_ids #样本\n",
    "         self.token_type_ids = token_type_ids #样本\n",
    "         self.attention_mask = attention_mask #样本\n",
    "         self.start_token_idx = start_token_idx #标签\n",
    "         self.end_token_idx = end_token_idx #标签\n",
    "\n"
   ]
  },
  {
   "cell_type": "code",
   "execution_count": 7,
   "id": "a606f137-ff1a-4377-989a-42223177a556",
   "metadata": {
    "scrolled": true
   },
   "outputs": [],
   "source": [
    "def create_bridge_examples(raw_data): \n",
    "    bridge_examples = []\n",
    "\n",
    "    for i in range( len(raw_data[\"context\"]) ):\n",
    "        context_text = raw_data.iloc[i][\"context\"] #上下文\n",
    "        question_text = raw_data.iloc[i][\"question\"] #问题\n",
    "        answer_text = raw_data.iloc[i][\"answer\"] #回答\n",
    "        index_of_answer = raw_data.iloc[i][\"index_of_answer\"] #回答的索引（上下文存在多个与答案相同的片段。索引从0开始计数）\n",
    "\n",
    "        bridge_eg = BridgeExample(question_text, context_text, answer_text, index_of_answer)\n",
    "        bridge_eg.preprocess() \n",
    "        bridge_examples.append(bridge_eg)\n",
    "    return bridge_examples \n",
    "\n",
    "def create_inputs_targets(bridge_examples): \n",
    "     dataset_dict = {\n",
    "         \"input_ids\": [],#样本的成员\n",
    "         \"token_type_ids\": [],#样本的成员\n",
    "         \"attention_mask\": [],#样本的成员\n",
    "         \"start_token_idx\": [],#标签的成员\n",
    "         \"end_token_idx\": [],#标签的成员\n",
    "     }\n",
    "     for item in bridge_examples:\n",
    "         if item.skip == False: #有效样本\n",
    "             for key in dataset_dict:\n",
    "                 dataset_dict[key].append(getattr(item, key)) \n",
    "\n",
    "     for key in dataset_dict:\n",
    "         dataset_dict[key] = np.array(dataset_dict[key])\n",
    "\n",
    "     x = [ dataset_dict[\"input_ids\"], dataset_dict[\"token_type_ids\"], dataset_dict[\"attention_mask\"] ]#样本\n",
    "     y = [ dataset_dict[\"start_token_idx\"], dataset_dict[\"end_token_idx\"] ]#标签\n",
    "     return x, y"
   ]
  },
  {
   "cell_type": "code",
   "execution_count": 8,
   "id": "ffa65028-551f-4491-b971-ab454a937cba",
   "metadata": {},
   "outputs": [
    {
     "name": "stdout",
     "output_type": "stream",
     "text": [
      "200 training points created.\n",
      "20 evaLuation points created.\n",
      "6 test points created.\n"
     ]
    },
    {
     "data": {
      "text/plain": [
       "'\\nprint(len(x_eval)) #len(x_eval)=3\\nprint(len(y_eval)) #len(y_eval)=2\\n\\nx_eval= [array([[ 101, 3565, 4605, ...,    0,    0,    0],\\n       [ 101, 3565, 4605, ...,    0,    0,    0],\\n       [ 101, 3565, 4605, ...,    0,    0,    0],\\n       ...,\\n       [ 101, 1996, 9044, ...,    0,    0,    0],\\n       [ 101, 1996, 9044, ...,    0,    0,    0],\\n       [ 101, 1996, 9044, ...,    0,    0,    0]]), array([[0, 0, 0, ..., 0, 0, 0],\\n       [0, 0, 0, ..., 0, 0, 0],\\n       [0, 0, 0, ..., 0, 0, 0],\\n       ...,\\n       [0, 0, 0, ..., 0, 0, 0],\\n       [0, 0, 0, ..., 0, 0, 0],\\n       [0, 0, 0, ..., 0, 0, 0]]), array([[1, 1, 1, ..., 0, 0, 0],\\n       [1, 1, 1, ..., 0, 0, 0],\\n       [1, 1, 1, ..., 0, 0, 0],\\n       ...,\\n       [1, 1, 1, ..., 0, 0, 0],\\n       [1, 1, 1, ..., 0, 0, 0],\\n       [1, 1, 1, ..., 0, 0, 0]])]\\ny_eval= [array([ 34,  45,  80, ...,  68, 171, 158]), array([ 35,  46,  83, ...,  68, 172, 160])]\\n'"
      ]
     },
     "execution_count": 8,
     "metadata": {},
     "output_type": "execute_result"
    }
   ],
   "source": [
    "train_bridge_examples = create_bridge_examples(train_set) #训练集\n",
    "x_train, y_train = create_inputs_targets(train_bridge_examples) \n",
    "print(f\"{len(train_bridge_examples)} training points created.\")\n",
    "\n",
    "eval_bridge_examples = create_bridge_examples(validate_set) #验证集\n",
    "x_eval, y_eval = create_inputs_targets(eval_bridge_examples)\n",
    "print(f\"{len(eval_bridge_examples)} evaLuation points created.\")\n",
    "\n",
    "test_bridge_examples = create_bridge_examples(test_set) #测试集\n",
    "x_test, y_test = create_inputs_targets(test_bridge_examples)\n",
    "print(f\"{len(test_bridge_examples)} test points created.\")\n",
    "\n"
   ]
  },
  {
   "cell_type": "code",
   "execution_count": 10,
   "id": "491bdea7-b04c-4698-822b-fe2c93300c9d",
   "metadata": {},
   "outputs": [],
   "source": [
    "def create_model():\n",
    "     encoder = TFBertModel.from_pretrained(\"bert-base-chinese\") \n",
    "     input_ids = layers.Input(shape=(max_len,), dtype=tf.int32)\n",
    "     token_type_ids = layers.Input(shape=(max_len,), dtype=tf.int32)\n",
    "     attention_mask = layers.Input(shape=(max_len,), dtype=tf.int32)\n",
    "     embedding = encoder(input_ids, token_type_ids=token_type_ids, attention_mask=attention_mask)[0]\n",
    "     start_logits = layers.Dense(1, name=\"start_logit\", use_bias=False)(embedding)\n",
    "     start_logits = layers.Flatten()(start_logits)\n",
    "     end_logits = layers.Dense(1, name=\"end_logit\", use_bias=False)(embedding)\n",
    "     end_logits = layers.Flatten()(end_logits)\n",
    "     start_probs = layers.Activation(keras.activations.softmax)(start_logits)\n",
    "     end_probs = layers.Activation(keras.activations.softmax)(end_logits)\n",
    "     model = keras.Model( inputs=[input_ids, token_type_ids, attention_mask], outputs=[start_probs, end_probs] )\n",
    "     loss = keras.losses.SparseCategoricalCrossentropy(from_logits=False) \n",
    "     optimizer = keras.optimizers.Adam(lr=learning_rate)\n",
    "     model.compile(optimizer=optimizer, loss=[loss, loss], metrics=['accuracy']) \n",
    "     return model"
   ]
  },
  {
   "cell_type": "code",
   "execution_count": 11,
   "id": "71ac9c02-52d0-4f3e-baa4-9067b4261b80",
   "metadata": {},
   "outputs": [
    {
     "name": "stderr",
     "output_type": "stream",
     "text": [
      "C:\\Users\\magic\\miniconda3\\envs\\tf2.10GPU_py3.10.13\\lib\\site-packages\\huggingface_hub\\file_download.py:1132: FutureWarning: `resume_download` is deprecated and will be removed in version 1.0.0. Downloads always resume when possible. If you want to force a new download, use `force_download=True`.\n",
      "  warnings.warn(\n",
      "Some weights of the PyTorch model were not used when initializing the TF 2.0 model TFBertModel: ['cls.seq_relationship.weight', 'cls.seq_relationship.bias', 'cls.predictions.transform.LayerNorm.weight', 'cls.predictions.transform.dense.weight', 'cls.predictions.bias', 'cls.predictions.transform.dense.bias', 'cls.predictions.transform.LayerNorm.bias']\n",
      "- This IS expected if you are initializing TFBertModel from a PyTorch model trained on another task or with another architecture (e.g. initializing a TFBertForSequenceClassification model from a BertForPreTraining model).\n",
      "- This IS NOT expected if you are initializing TFBertModel from a PyTorch model that you expect to be exactly identical (e.g. initializing a TFBertForSequenceClassification model from a BertForSequenceClassification model).\n",
      "All the weights of TFBertModel were initialized from the PyTorch model.\n",
      "If your task is similar to the task the model of the checkpoint was trained on, you can already use TFBertModel for predictions without further training.\n"
     ]
    },
    {
     "name": "stdout",
     "output_type": "stream",
     "text": [
      "Model: \"model\"\n",
      "__________________________________________________________________________________________________\n",
      " Layer (type)                   Output Shape         Param #     Connected to                     \n",
      "==================================================================================================\n",
      " input_1 (InputLayer)           [(None, 512)]        0           []                               \n",
      "                                                                                                  \n",
      " input_3 (InputLayer)           [(None, 512)]        0           []                               \n",
      "                                                                                                  \n",
      " input_2 (InputLayer)           [(None, 512)]        0           []                               \n",
      "                                                                                                  \n",
      " tf_bert_model (TFBertModel)    TFBaseModelOutputWi  102267648   ['input_1[0][0]',                \n",
      "                                thPoolingAndCrossAt               'input_3[0][0]',                \n",
      "                                tentions(last_hidde               'input_2[0][0]']                \n",
      "                                n_state=(None, 512,                                               \n",
      "                                 768),                                                            \n",
      "                                 pooler_output=(Non                                               \n",
      "                                e, 768),                                                          \n",
      "                                 past_key_values=No                                               \n",
      "                                ne, hidden_states=N                                               \n",
      "                                one, attentions=Non                                               \n",
      "                                e, cross_attentions                                               \n",
      "                                =None)                                                            \n",
      "                                                                                                  \n",
      " start_logit (Dense)            (None, 512, 1)       768         ['tf_bert_model[0][0]']          \n",
      "                                                                                                  \n",
      " end_logit (Dense)              (None, 512, 1)       768         ['tf_bert_model[0][0]']          \n",
      "                                                                                                  \n",
      " flatten (Flatten)              (None, 512)          0           ['start_logit[0][0]']            \n",
      "                                                                                                  \n",
      " flatten_1 (Flatten)            (None, 512)          0           ['end_logit[0][0]']              \n",
      "                                                                                                  \n",
      " activation (Activation)        (None, 512)          0           ['flatten[0][0]']                \n",
      "                                                                                                  \n",
      " activation_1 (Activation)      (None, 512)          0           ['flatten_1[0][0]']              \n",
      "                                                                                                  \n",
      "==================================================================================================\n",
      "Total params: 102,269,184\n",
      "Trainable params: 102,269,184\n",
      "Non-trainable params: 0\n",
      "__________________________________________________________________________________________________\n"
     ]
    },
    {
     "name": "stderr",
     "output_type": "stream",
     "text": [
      "C:\\Users\\magic\\miniconda3\\envs\\tf2.10GPU_py3.10.13\\lib\\site-packages\\keras\\optimizers\\optimizer_v2\\adam.py:114: UserWarning: The `lr` argument is deprecated, use `learning_rate` instead.\n",
      "  super().__init__(name, **kwargs)\n"
     ]
    }
   ],
   "source": [
    "model = create_model()\n",
    "model.summary()"
   ]
  },
  {
   "cell_type": "code",
   "execution_count": 12,
   "id": "50557c28-fd38-4736-b901-fa73cfc0bf10",
   "metadata": {},
   "outputs": [],
   "source": [
    "class ExactMatch(keras.callbacks.Callback):\n",
    "     def __init__(self, x_eval, y_eval):\n",
    "         self.x_eval = x_eval\n",
    "         self.y_eval = y_eval\n",
    "     def on_epoch_end(self, epoch, logs=None):\n",
    "         pred_start, pred_end = self.model.predict(self.x_eval) \n",
    "         count = 0\n",
    "         for idx, (start, end) in enumerate(zip(pred_start, pred_end)):\n",
    "             start = np.argmax(start) \n",
    "             end = np.argmax(end)\n",
    "             if start == self.y_eval[0][idx] and end == self.y_eval[1][idx]: \n",
    "                 count += 1 \n",
    "         acc = count / len(self.y_eval[0])\n",
    "         print(f\"\\nepoch={epoch+1}, exact match score={acc:.2f}\")\n",
    "         #self.model.save_weights('./save_weights/my_model_%03d.h5'%epoch) #每轮均保存模型"
   ]
  },
  {
   "cell_type": "code",
   "execution_count": 15,
   "id": "7b702d82-b3de-40c6-b89d-638e4a09502b",
   "metadata": {},
   "outputs": [
    {
     "name": "stdout",
     "output_type": "stream",
     "text": [
      "1/1 [==============================] - 1s 519ms/step\n",
      "样本数量= 6\n",
      "精度=100% \n",
      "\n",
      "context_AND_answer= 3. 4. 3 桥 下 净 空 应 根 据 计 算 水 位 （ 设 计 水 位 计 入 壅 水 、 浪 高 等 ） 或 最 高 流 冰 水 位 加 安 全 高 度 确 定 ， 并 应 符 合 下 列 规 定 ： 1 当 河 流 有 形 成 流 冰 阻 塞 的 危 险 或 有 漂 浮 物 通 过 时 ， 应 按 实 际 调 查 的 数 据 ， 在 计 算 水 位 的 基 础 上 ， 结 合 当 地 具 体 情 况 酌 留 一 定 富 余 量 ， 作 为 确 定 桥 下 净 空 的 依 据 。 对 于 有 淤 积 的 河 流 ， 桥 下 净 空 应 适 当 增 加 。 2 通 航 或 流 放 木 筏 的 河 流 ， 桥 下 净 空 应 符 合 通 航 标 准 或 流 放 木 筏 的 要 求 。 有 国 防 要 求 和 其 他 特 殊 要 求 （ 如 石 油 钻 探 船 只 ） 的 航 道 ， 其 通 航 标 准 应 与 有 关 部 门 具 体 研 究 确 定 。 3 在 不 通 航 或 无 流 放 木 筏 河 流 上 及 通 航 河 流 的 不 通 航 桥 孔 内 ， 桥 下 净 空 不 应 小 于 表 3. 4. 3 的 规 定 。 4 无 铰 拱 的 拱 脚 允 许 被 设 计 洪 水 淹 没 ， 但 不 宜 超 过 拱 圈 高 度 的 2 / 3, 且 拱 顶 底 面 至 计 算 水 位 的 净 高 不 得 小 于 1. 0m 。 5 在 不 通 航 和 无 流 筏 的 水 库 区 域 内 ， 梁 底 面 或 无 铰 拱 拱 顶 底 面 离 开 水 面 的 高 度 不 应 小 于 计 算 浪 高 的 0. 75 倍 加 上 0. 25m 。 无 铰 拱 的 拱 脚 被 设 计 洪 水 淹 没 时 ， 不 宜 超 过 什 么 高 度 的 2 / 3 ？\n",
      "label= 287 288 \n",
      " 拱 圈\n",
      "预测= 287 288 \n",
      " 拱 圈 \n",
      "\n",
      "context_AND_answer= 3. 8. 1 桥 涵 应 设 置 维 修 养 护 通 道 。 特 大 、 大 桥 应 根 据 需 要 设 置 必 要 的 检 查 平 台 、 扶 梯 、 内 照 明 、 人 口 井 盖 、 专 用 检 修 车 等 设 施 ； 需 借 助 墩 顶 作 为 检 修 平 台 时 ， 桥 墩 应 根 据 需 要 设 置 安 全 设 施 。 3. 8. 2 特 大 桥 和 大 桥 应 设 置 永 久 观 测 点 。 特 大 、 大 、 中 桥 桥 墩 台 旁 必 要 时 可 设 置 水 尺 或 标 志 。 3. 8. 3 位 于 桥 面 上 的 拉 索 、 吊 杆 、 拱 肋 等 受 力 构 件 应 设 置 必 要 的 防 撞 保 护 设 施 。 3. 8. 4 桥 梁 应 根 据 相 关 规 范 的 规 定 进 行 防 雷 设 计 ， 设 置 避 雷 设 施 。 3. 8. 5 特 大 、 大 、 中 桥 可 根 据 需 要 设 置 防 火 、 照 明 和 导 航 设 备 以 及 养 护 工 房 、 库 房 和 守 卫 房 等 ， 必 要 时 可 设 置 紧 急 电 话 。 3. 8. 6 技 术 复 杂 的 大 型 桥 梁 工 程 可 根 据 需 要 设 置 必 要 的 结 构 监 测 设 施 。 3. 8. 7 桥 梁 在 跨 越 公 路 和 铁 路 部 分 应 设 置 防 抛 网 。 大 桥 应 根 据 需 要 设 置 哪 些 设 施 ？\n",
      "label= 30 55 \n",
      " 必 要 的 检 查 平 台 、 扶 梯 、 内 照 明 、 人 口 井 盖 、 专 用 检 修 车 等\n",
      "预测= 30 55 \n",
      " 必 要 的 检 查 平 台 、 扶 梯 、 内 照 明 、 人 口 井 盖 、 专 用 检 修 车 等 \n",
      "\n",
      "context_AND_answer= 3. 4. 2 桥 面 人 行 道 、 自 行 车 道 和 拦 护 设 施 的 布 置 应 符 合 下 列 规 定 ： 1 高 速 公 路 上 的 桥 梁 不 宜 设 人 行 道 。 一 、 二 、 三 、 四 级 公 路 上 桥 梁 的 桥 上 人 行 道 和 自 行 车 道 的 设 置 ， 应 根 据 需 要 而 定 ， 并 应 与 前 后 路 线 布 置 协 调 。 人 行 道 、 自 行 车 道 与 行 车 道 之 间 ， 应 设 护 栏 或 路 缘 石 等 分 隔 设 施 。 一 个 自 行 车 道 的 宽 度 应 为 1. 0m ; 当 单 独 设 置 自 行 车 道 时 ， 不 宜 小 于 两 个 自 行 车 道 的 宽 度 。 人 行 道 的 宽 度 宜 为 1. 0m ; 大 于 1. 0m 时 ， 按 0. 5m 的 级 差 增 加 。 漫 水 桥 和 过 水 路 面 可 不 设 人 行 道 。 2 通 行 拖 拉 机 或 畜 力 车 为 主 的 慢 行 道 ， 其 宽 度 应 根 据 当 地 行 驶 拖 拉 机 或 畜 力 车 车 型 及 交 通 量 而 定 ； 当 沿 桥 梁 一 侧 设 置 时 ， 不 应 小 于 双 向 行 驶 要 求 的 宽 度 。 3 桥 梁 护 栏 设 置 应 符 合 现 行 《 公 路 交 通 安 全 设 施 设 计 规 范 》 ( jtg d81 ) 的 相 关 规 定 。 4 路 缘 石 高 度 可 取 用 0. 25 ~ 0. 35m 。 当 跨 越 急 流 、 大 河 、 深 谷 、 重 要 道 路 、 铁 路 、 主 要 航 道 ， 或 桥 面 常 有 积 雪 、 结 冰 时 ， 其 路 缘 石 高 度 宜 取 用 较 大 值 。 桥 面 单 独 设 置 自 行 车 道 时 ， 不 宜 小 于 几 个 自 行 车 道 的 宽 度 ？\n",
      "label= 156 156 \n",
      " 两\n",
      "预测= 156 156 \n",
      " 两 \n",
      "\n",
      "context_AND_answer= 3. 4. 3 桥 下 净 空 应 根 据 计 算 水 位 （ 设 计 水 位 计 入 壅 水 、 浪 高 等 ） 或 最 高 流 冰 水 位 加 安 全 高 度 确 定 ， 并 应 符 合 下 列 规 定 ： 1 当 河 流 有 形 成 流 冰 阻 塞 的 危 险 或 有 漂 浮 物 通 过 时 ， 应 按 实 际 调 查 的 数 据 ， 在 计 算 水 位 的 基 础 上 ， 结 合 当 地 具 体 情 况 酌 留 一 定 富 余 量 ， 作 为 确 定 桥 下 净 空 的 依 据 。 对 于 有 淤 积 的 河 流 ， 桥 下 净 空 应 适 当 增 加 。 2 通 航 或 流 放 木 筏 的 河 流 ， 桥 下 净 空 应 符 合 通 航 标 准 或 流 放 木 筏 的 要 求 。 有 国 防 要 求 和 其 他 特 殊 要 求 （ 如 石 油 钻 探 船 只 ） 的 航 道 ， 其 通 航 标 准 应 与 有 关 部 门 具 体 研 究 确 定 。 3 在 不 通 航 或 无 流 放 木 筏 河 流 上 及 通 航 河 流 的 不 通 航 桥 孔 内 ， 桥 下 净 空 不 应 小 于 表 3. 4. 3 的 规 定 。 4 无 铰 拱 的 拱 脚 允 许 被 设 计 洪 水 淹 没 ， 但 不 宜 超 过 拱 圈 高 度 的 2 / 3, 且 拱 顶 底 面 至 计 算 水 位 的 净 高 不 得 小 于 1. 0m 。 5 在 不 通 航 和 无 流 筏 的 水 库 区 域 内 ， 梁 底 面 或 无 铰 拱 拱 顶 底 面 离 开 水 面 的 高 度 不 应 小 于 计 算 浪 高 的 0. 75 倍 加 上 0. 25m 。 无 铰 拱 的 拱 脚 被 设 计 洪 水 淹 没 时 ， 何 处 至 计 算 水 位 的 净 高 不 得 小 于 1. 0m ？\n",
      "label= 297 300 \n",
      " 拱 顶 底 面\n",
      "预测= 297 300 \n",
      " 拱 顶 底 面 \n",
      "\n",
      "context_AND_answer= 3. 2. 9 公 路 桥 涵 的 设 计 洪 水 频 率 应 符 合 表 3. 2. 9 的 规 定 ， 并 应 符 合 下 列 规 定 ： 1 二 级 公 路 上 的 特 大 桥 及 三 、 四 级 公 路 上 的 大 桥 ， 在 河 床 比 降 大 、 易 于 冲 刷 的 情 况 下 ， 宜 提 高 一 级 洪 水 频 率 验 算 基 础 冲 刷 深 度 。 2 沿 河 纵 向 高 架 桥 和 桥 头 引 道 的 设 计 洪 水 频 率 应 符 合 现 行 《 公 路 工 程 技 术 标 准 》 ( jtg b01 ) 中 路 基 设 计 洪 水 频 率 的 有 关 规 定 。 3 对 由 多 孔 中 小 跨 径 桥 梁 组 成 的 特 大 桥 ， 其 设 计 洪 水 频 率 可 采 用 大 桥 标 准 。 4 三 、 四 级 公 路 ， 在 交 通 容 许 有 限 度 的 中 断 时 ， 可 修 建 漫 水 桥 和 过 水 路 面 。 漫 水 桥 和 过 水 路 面 的 设 计 洪 水 频 率 ， 应 根 据 容 许 阻 断 交 通 的 时 间 长 短 和 对 上 下 游 农 田 、 城 镇 、 村 庄 的 影 响 以 及 泥 沙 淤 塞 桥 孔 、 上 游 河 床 的 淤 高 等 因 素 确 定 。 漫 水 桥 和 过 水 路 面 的 设 计 洪 水 频 率 ， 应 根 据 哪 些 因 素 确 定 ？\n",
      "label= 237 280 \n",
      " 容 许 阻 断 交 通 的 时 间 长 短 和 对 上 下 游 农 田 、 城 镇 、 村 庄 的 影 响 以 及 泥 沙 淤 塞 桥 孔 、 上 游 河 床 的 淤 高 等\n",
      "预测= 237 280 \n",
      " 容 许 阻 断 交 通 的 时 间 长 短 和 对 上 下 游 农 田 、 城 镇 、 村 庄 的 影 响 以 及 泥 沙 淤 塞 桥 孔 、 上 游 河 床 的 淤 高 等 \n",
      "\n",
      "context_AND_answer= 3. 5. 1 桥 梁 纵 坡 设 计 应 符 合 下 列 规 定 ： l 桥 上 纵 坡 不 宜 大 于 4 ％ ， 桥 头 引 道 纵 坡 不 宜 大 于 5 ％ ； 桥 头 两 端 引 道 的 线 形 应 与 桥 梁 的 线 形 相 匹 配 。 2 位 于 城 镇 混 合 交 通 繁 忙 处 的 桥 梁 ， 桥 上 纵 坡 及 桥 头 引 道 纵 坡 均 不 得 大 于 3 ％ 。 3 对 易 结 冰 、 积 雪 的 桥 梁 ， 桥 上 纵 坡 不 宜 大 于 3 ％ 。 3. 5. 2 在 洪 水 泛 滥 区 域 以 内 ， 特 大 、 大 、 中 桥 桥 头 引 道 的 路 肩 高 程 应 高 出 桥 梁 设 计 洪 水 频 率 的 水 位 加 雍 水 高 、 波 浪 爬 高 、 河 弯 超 高 、 河 床 淤 积 等 影 响 0. 5m 以 上 ； 小 桥 涵 引 道 的 路 肩 高 程 宜 高 出 桥 涵 前 壅 水 水 位 （ 不 计 浪 高 ） 0. 5m 以 上 ； 压 力 式 或 半 压 力 式 涵 洞 的 路 肩 高 程 宜 高 出 涵 前 雍 水 水 位 1. 0m 以 上 。 压 力 式 涵 洞 的 路 肩 高 程 宜 高 出 涵 前 雍 水 水 位 多 少 以 上 ？\n",
      "label= 252 255 \n",
      " 1. 0m\n",
      "预测= 252 255 \n",
      " 1. 0m \n",
      "\n"
     ]
    }
   ],
   "source": [
    "def predict_result(x_data, y_data, show=False):\n",
    "    pred_start, pred_end = model.predict(x_data)\n",
    "    count = 0\n",
    "    for idx, (start, end) in enumerate(zip(pred_start, pred_end)):\n",
    "        start = np.argmax(start) \n",
    "        end = np.argmax(end)\n",
    "        if start == y_data[0][idx] and end == y_data[1][idx]: \n",
    "            count += 1 \n",
    "    acc = count / len(y_data[0])    \n",
    "    print('样本数量=',len(y_data[0]))\n",
    "    print(f\"精度={acc:.0%}\", \"\\n\") \n",
    "    if show:\n",
    "        for num_of_example in range( len(y_data[0]) ):\n",
    "            context_AND_question=tokenizer.decode(x_data[0][num_of_example]) \n",
    "            print('context_AND_question=',context_AND_question)\n",
    "            label=tokenizer.decode(x_data[0][num_of_example][y_data[0][num_of_example] : y_data[1][num_of_example]+1]) \n",
    "            print('label=',y_data[0][num_of_example] , y_data[1][num_of_example],\"\\n\",label)\n",
    "            answer_start = np.argmax(pred_start[num_of_example])\n",
    "            answer_end = np.argmax(pred_end[num_of_example])\n",
    "            label=tokenizer.decode(x_data[0][num_of_example][answer_start : answer_end+1])\n",
    "            print('预测=',answer_start,answer_end,\"\\n\",label, \"\\n\")\n",
    "\n",
    "        \n",
    "#predict_result(x_train, y_train, show=False) \n",
    "#predict_result(x_eval, y_eval, show=False) \n",
    "predict_result(x_test, y_test, show=True) \n",
    "\n"
   ]
  },
  {
   "cell_type": "code",
   "execution_count": 15,
   "id": "92aa0472-e3d2-471d-a1e2-1e63304ae79e",
   "metadata": {},
   "outputs": [
    {
     "name": "stdout",
     "output_type": "stream",
     "text": [
      "Epoch 1/2\n",
      "1/1 [==============================] - 0s 434ms/steposs: 2.6845 - activation_loss: 1.1720 - activation_1_loss: 1.5125 - activation_accuracy: 0.6750 - activation_1_accuracy: 0.58\n",
      "\n",
      "epoch=1, exact match score=0.45\n",
      "25/25 [==============================] - 13s 507ms/step - loss: 2.6845 - activation_loss: 1.1720 - activation_1_loss: 1.5125 - activation_accuracy: 0.6750 - activation_1_accuracy: 0.5800\n",
      "Epoch 2/2\n",
      "1/1 [==============================] - 0s 437ms/steposs: 1.2213 - activation_loss: 0.5425 - activation_1_loss: 0.6788 - activation_accuracy: 0.8600 - activation_1_accuracy: 0.81\n",
      "\n",
      "epoch=2, exact match score=0.60\n",
      "25/25 [==============================] - 13s 507ms/step - loss: 1.2213 - activation_loss: 0.5425 - activation_1_loss: 0.6788 - activation_accuracy: 0.8600 - activation_1_accuracy: 0.8100\n"
     ]
    }
   ],
   "source": [
    "#history=model.fit( x_train, y_train, epochs=2, batch_size=8, callbacks=[ExactMatch(x_eval, y_eval)])  \n",
    "history=model.fit( x_train, y_train, epochs=2, batch_size=8, validation_data=(x_eval, y_eval) )  \n",
    "\n"
   ]
  },
  {
   "cell_type": "code",
   "execution_count": 22,
   "id": "959a78c0-9e38-40b1-a12a-86af04e215f1",
   "metadata": {},
   "outputs": [
    {
     "data": {
      "image/png": "[encoded data removed]",
      "text/plain": [
       "<Figure size 640x480 with 1 Axes>"
      ]
     },
     "metadata": {},
     "output_type": "display_data"
    },
    {
     "data": {
      "image/png": "[encoded data removed]",
      "text/plain": [
       "<Figure size 640x480 with 1 Axes>"
      ]
     },
     "metadata": {},
     "output_type": "display_data"
    }
   ],
   "source": [
    "\n",
    "with open(os.path.join('history.txt'), 'w') as file_object:\n",
    "    file_object.write(str(history.history))\n",
    "\n",
    "import matplotlib.pyplot as plt\n",
    "a=28\n",
    "acc = history.history['activation_1_accuracy'][0:a]\n",
    "val_acc = history.history['val_activation_1_accuracy'][0:a]\n",
    "loss = history.history['loss'][0:a]\n",
    "val_loss = history.history['val_loss'][0:a]\n",
    "epochs = range(1, len(acc) + 1)\n",
    "plt.plot(epochs, acc, 'bo', label='Training acc')\n",
    "plt.plot(epochs, val_acc, 'b', label='Validation acc')\n",
    "plt.title('Training and validation accuracy')\n",
    "plt.legend()\n",
    "plt.figure()\n",
    "plt.plot(epochs, loss, 'bo', label='Training loss')\n",
    "plt.plot(epochs, val_loss, 'b', label='Validation loss')\n",
    "plt.title('Training and validation loss')\n",
    "plt.legend()\n",
    "plt.show()"
   ]
  },
  {
   "cell_type": "code",
   "execution_count": 1,
   "id": "34f1837b-ed35-4b45-901d-e12c27225f39",
   "metadata": {},
   "outputs": [
    {
     "ename": "NameError",
     "evalue": "name 'model' is not defined",
     "output_type": "error",
     "traceback": [
      "\u001b[1;31m---------------------------------------------------------------------------\u001b[0m",
      "\u001b[1;31mNameError\u001b[0m                                 Traceback (most recent call last)",
      "Cell \u001b[1;32mIn[1], line 1\u001b[0m\n\u001b[1;32m----> 1\u001b[0m \u001b[43mmodel\u001b[49m\u001b[38;5;241m.\u001b[39mload_weights(\u001b[38;5;124m'\u001b[39m\u001b[38;5;124m01 my_model_038.h5\u001b[39m\u001b[38;5;124m'\u001b[39m)\n\u001b[0;32m      3\u001b[0m predict_result(x_train, y_train, show\u001b[38;5;241m=\u001b[39m\u001b[38;5;28;01mFalse\u001b[39;00m) \n\u001b[0;32m      4\u001b[0m predict_result(x_eval, y_eval, show\u001b[38;5;241m=\u001b[39m\u001b[38;5;28;01mFalse\u001b[39;00m) \n",
      "\u001b[1;31mNameError\u001b[0m: name 'model' is not defined"
     ]
    }
   ],
   "source": [
    "model.load_weights('01 my_model_038.h5')\n",
    "\n",
    "predict_result(x_train, y_train, show=False) \n",
    "predict_result(x_eval, y_eval, show=False) \n",
    "predict_result(x_test, y_test, show=True) "
   ]
  },
  {
   "cell_type": "code",
   "execution_count": null,
   "id": "eb51b943-17bd-4642-a2b8-ee447935c921",
   "metadata": {},
   "outputs": [],
   "source": []
  }
 ],
 "metadata": {
  "kernelspec": {
   "display_name": "Python 3 (ipykernel)",
   "language": "python",
   "name": "python3"
  },
  "language_info": {
   "codemirror_mode": {
    "name": "ipython",
    "version": 3
   },
   "file_extension": ".py",
   "mimetype": "text/x-python",
   "name": "python",
   "nbconvert_exporter": "python",
   "pygments_lexer": "ipython3",
   "version": "3.10.13"
  }
 },
 "nbformat": 4,
 "nbformat_minor": 5
}
