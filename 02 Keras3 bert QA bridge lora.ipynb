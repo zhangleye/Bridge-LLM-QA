{
 "cells": [
  {
   "cell_type": "code",
   "execution_count": 1,
   "id": "32659b1c-3127-4698-8c2d-a50b21f88ac5",
   "metadata": {},
   "outputs": [
    {
     "name": "stderr",
     "output_type": "stream",
     "text": [
      "2024-08-13 10:48:31.909764: I tensorflow/core/platform/cpu_feature_guard.cc:210] This TensorFlow binary is optimized to use available CPU instructions in performance-critical operations.\n",
      "To enable the following instructions: AVX2 FMA, in other operations, rebuild TensorFlow with the appropriate compiler flags.\n",
      "2024-08-13 10:48:33.122134: W tensorflow/compiler/tf2tensorrt/utils/py_utils.cc:38] TF-TRT Warning: Could not find TensorRT\n"
     ]
    }
   ],
   "source": [
    "import os\n",
    "import re \n",
    "import json \n",
    "import string \n",
    "import numpy as np\n",
    "import tensorflow as tf\n",
    "from tensorflow import keras\n",
    "from tensorflow.keras import layers\n",
    "from tokenizers import BertWordPieceTokenizer\n",
    "from transformers import BertTokenizer,  BertConfig \n",
    "\n",
    "import pandas as pd"
   ]
  },
  {
   "cell_type": "code",
   "execution_count": 2,
   "id": "6556f2fd-be25-411c-9a77-6e9f66adad43",
   "metadata": {},
   "outputs": [
    {
     "data": {
      "text/plain": [
       "('bert_base_chinese/tokenizer_config.json',\n",
       " 'bert_base_chinese/special_tokens_map.json',\n",
       " 'bert_base_chinese/vocab.txt',\n",
       " 'bert_base_chinese/added_tokens.json')"
      ]
     },
     "execution_count": 2,
     "metadata": {},
     "output_type": "execute_result"
    }
   ],
   "source": [
    "learning_rate=1e-3 \n",
    "max_len = 512 \n",
    "configuration = BertConfig() \n",
    "slow_tokenizer = BertTokenizer.from_pretrained(\"bert-base-chinese\")\n",
    "\n",
    "save_path = \"bert_base_chinese/\"\n",
    "if not os.path.exists(save_path):\n",
    "     os.makedirs(save_path)\n",
    "slow_tokenizer.save_pretrained(save_path) \n",
    "\n"
   ]
  },
  {
   "cell_type": "code",
   "execution_count": 3,
   "id": "50174500-8c6b-4c71-a266-3b46b9c818f8",
   "metadata": {},
   "outputs": [
    {
     "data": {
      "text/plain": [
       "'\\n中文文本编码的处理方法如下：\\n利用transformers库中的BertTokenizer实现分词编码，实例化一个tokenizer，载入预先下载好的词表，调用encode函数进行编码，encode函数有5个常用参数：\\n        ① text： 需要编码的文本；\\n        ② add_special_tokens： 是否添加特殊token，即CLS分类token和SEP分隔token；默认True。\\n        ③ max_length： 文本的最大长度，根据需要处理的最长文本长度设置；\\n        ④ pad_to_max_length： 是否填充到最大长度，以0补位；默认False。\\n        ⑤ return_tensors：tensor类型4种[‘pt’, ‘tf’, ‘np’, ‘jax’]即pytorch、tensorflow、int32数组和jax；不指定return_tensors类型则返回列表格式。\\n四种tensor类型如下：\\n1、pytorch tensor：\\ninput_ids:\\n tensor([[ 101,  671, 2573, 3299, 5862, 8024,  671, 2573, 6716, 7231, 8024,  671,\\n         2573, 1068, 2255, 7410, 3868, 6814,  511, 3470, 6864, 6814, 2145, 8024,\\n         2809, 2094, 5442,  679, 7309, 1728, 3362,  511,  102,    0,    0,    0,\\n            0,    0,    0,    0,    0,    0,    0,    0,    0,    0,    0,    0,\\n            ......\\n            0,    0,    0,    0,    0,    0,    0,    0]])\\n2、tensorflow tensor：\\ninput_ids:\\n tf.Tensor(\\n[[ 101  671 2573 3299 5862 8024  671 2573 6716 7231 8024  671 2573 1068\\n  2255 7410 3868 6814  511 3470 6864 6814 2145 8024 2809 2094 5442  679\\n  7309 1728 3362  511  102    0    0    0    0    0    0    0    0    0\\n     0    0    0    0    0    0    0    0    0    0    0    0    0    0\\n     ......\\n     0    0]], shape=(1, 128), dtype=int32)\\n3、int32数组形式：\\ninput_ids:\\n [[ 101  671 2573 3299 5862 8024  671 2573 6716 7231 8024  671 2573 1068\\n  2255 7410 3868 6814  511 3470 6864 6814 2145 8024 2809 2094 5442  679\\n  7309 1728 3362  511  102    0    0    0    0    0    0    0    0    0\\n     0    0    0    0    0    0    0    0    0    0    0    0    0    0\\n     ......\\n     0    0]]\\n4、 jax tensor：出错【可能需要指定后端才行】\\n5、不指定return_tensors，则返回列表：\\ninput_ids:\\n [101, 671, 2573, 3299, 5862, 8024, 671, 2573, 6716, 7231, 8024, 671, 2573, 1068, 2255, \\n 7410, 3868, 6814, 511, 3470, 6864, 6814, 2145, 8024, 2809, 2094, 5442, 679, 7309, 1728, \\n 3362, 511, 102, 0, 0, 0, 0, 0, 0, 0, 0, 0, 0, 0, 0, 0, 0, 0, 0, 0, 0, 0, 0, 0, 0, 0, 0, \\n ......\\n 0, 0, 0, 0, 0, 0, 0, 0, 0, 0, 0, 0, 0]\\n\\n        \\n示例代码：\\nfrom transformers import BertTokenizer\\ntokenizer = BertTokenizer.from_pretrained(\\'./bert_base_chinese\\') #其实就是调用已经下载的词汇表\"bert_base_chinese/vocab.txt\"\\ntext = \\'一念月落，一念身错，一念关山难涉过。棋逢过客，执子者不问因果。\\'\\ninput_ids = tokenizer.encode(\\n    text,\\n    add_special_tokens=True,\\n    max_length=128,\\n    pad_to_max_length=True,\\n    return_tensors=\\'pt\\'\\n    )\\nprint(\\'text:\\n\\', text)\\nprint(\\'text字符数:\\', len(text))\\nprint(\\'input_ids:\\n\\', input_ids)  \\nprint(\\'input_ids大小:\\', input_ids.size())\\n输出：\\ntext:\\n 一念月落，一念身错，一念关山难涉过。棋逢过客，执子者不问因果。\\ntext字符数: 31\\ninput_ids:\\n tensor([[ 101,  671, 2573, 3299, 5862, 8024,  671, 2573, 6716, 7231, 8024,  671,\\n         2573, 1068, 2255, 7410, 3868, 6814,  511, 3470, 6864, 6814, 2145, 8024,\\n         2809, 2094, 5442,  679, 7309, 1728, 3362,  511,  102,    0,    0,    0,\\n            0,    0,    0,    0,    0,    0,    0,    0,    0,    0,    0,    0,\\n            0,    0,    0,    0,    0,    0,    0,    0,    0,    0,    0,    0,\\n            0,    0,    0,    0,    0,    0,    0,    0,    0,    0,    0,    0,\\n            0,    0,    0,    0,    0,    0,    0,    0,    0,    0,    0,    0,\\n            0,    0,    0,    0,    0,    0,    0,    0,    0,    0,    0,    0,\\n            0,    0,    0,    0,    0,    0,    0,    0,    0,    0,    0,    0,\\n            0,    0,    0,    0,    0,    0,    0,    0,    0,    0,    0,    0,\\n            0,    0,    0,    0,    0,    0,    0,    0]])\\ninput_ids大小: torch.Size([1, 128])\\n5种特殊token标记：\\n        [PAD]: 填充标记，编码为0；\\n        [UNK]: 未知字符标记，即该字不在所定义的词表中，编码为100；\\n        [CLS]: 分类标记，蕴含整个文本的含义，编码为101；\\n        [SEP]: 分隔字符标记，用于断开两句话，编码为102；\\n        [MASK]: 掩码标记，该字被遮挡，编码为103；\\n\\nfrom transformers import BertTokenizer\\ntokenizer = BertTokenizer.from_pretrained(\\'./bert_base_chinese\\') #其实就是调用已经下载的词汇表\"bert_base_chinese/vocab.txt\"\\ntext = \\'一念月落，一念身错，一念关山难涉过。棋逢过客，执子者不问因果。\\'\\ntokens = tokenizer.tokenize(text)\\ninput_ids = tokenizer.convert_tokens_to_ids(tokens)\\ntokenxx = tokenizer.convert_ids_to_tokens(input_ids)\\nprint(\\'中文分词:\\n\\', tokens)\\nprint(\\'分词-->编码:\\n\\', input_ids)\\nprint(\\'编码-->分词:\\n\\', tokenxx)\\nprint(\\'tokenizer.decode(input_ids)=\\',tokenizer.decode(input_ids))\\n中文分词:\\n [\\'一\\', \\'念\\', \\'月\\', \\'落\\', \\'，\\', \\'一\\', \\'念\\', \\'身\\', \\'错\\', \\'，\\', \\'一\\', \\'念\\', \\'关\\', \\'山\\', \\'难\\', \\'涉\\', \\'过\\', \\'。\\', \\'棋\\', \\'逢\\', \\'过\\', \\'客\\', \\'，\\', \\'执\\', \\'子\\', \\'者\\', \\'不\\', \\'问\\', \\'因\\', \\'果\\', \\'。\\']\\n分词-->编码:\\n [671, 2573, 3299, 5862, 8024, 671, 2573, 6716, 7231, 8024, 671, 2573, 1068, 2255, 7410, 3868, 6814, 511, 3470, 6864, 6814, 2145, 8024, 2809, 2094, 5442, 679, 7309, 1728, 3362, 511]\\n编码-->分词:\\n [\\'一\\', \\'念\\', \\'月\\', \\'落\\', \\'，\\', \\'一\\', \\'念\\', \\'身\\', \\'错\\', \\'，\\', \\'一\\', \\'念\\', \\'关\\', \\'山\\', \\'难\\', \\'涉\\', \\'过\\', \\'。\\', \\'棋\\', \\'逢\\', \\'过\\', \\'客\\', \\'，\\', \\'执\\', \\'子\\', \\'者\\', \\'不\\', \\'问\\', \\'因\\', \\'果\\', \\'。\\']\\ntokenizer.decode(input_ids)= 一 念 月 落 ， 一 念 身 错 ， 一 念 关 山 难 涉 过 。 棋 逢 过 客 ， 执 子 者 不 问 因 果 。\\n\\n除了BertTokenizer，还有AutoTokenizer也是常用的。\\n原文链接：https://blog.csdn.net/qq_43426908/article/details/134748200\\n'"
      ]
     },
     "execution_count": 3,
     "metadata": {},
     "output_type": "execute_result"
    }
   ],
   "source": [
    "tokenizer = BertWordPieceTokenizer(\"bert_base_chinese/vocab.txt\", lowercase=True) \n"
   ]
  },
  {
   "cell_type": "code",
   "execution_count": 4,
   "id": "e81efaae-97dc-49d8-b382-1defeeef639b",
   "metadata": {},
   "outputs": [
    {
     "name": "stdout",
     "output_type": "stream",
     "text": [
      "                                             context  \\\n",
      "0  3.\\t1.1 公路桥涵应根据公路功能和技术等级，考虑因地制宜、就地取材、便于施工和养护等因...   \n",
      "1  3.\\t1.1 公路桥涵应根据公路功能和技术等级，考虑因地制宜、就地取材、便于施工和养护等因...   \n",
      "2  3.\\t1.1 公路桥涵应根据公路功能和技术等级，考虑因地制宜、就地取材、便于施工和养护等因...   \n",
      "3  3.\\t1.1 公路桥涵应根据公路功能和技术等级，考虑因地制宜、就地取材、便于施工和养护等因...   \n",
      "4  3.\\t1.1 公路桥涵应根据公路功能和技术等级，考虑因地制宜、就地取材、便于施工和养护等因...   \n",
      "\n",
      "                       question                                answer  \\\n",
      "0             公路桥涵总体设计时应考虑哪些因素？                    因地制宜、就地取材、便于施工和养护等   \n",
      "1  公路桥涵在多长时间内应满足规定的正常交通荷载通行的需要？                                设计使用年限   \n",
      "2             中小桥涵线形设计应该符合什么规定？                             路线设计的总体要求   \n",
      "3              大桥线形设计应综合考虑哪些因素？  路线总体走向、桥区地质、地形、安全通行、通航、已有建筑设施、环境敏感区等   \n",
      "4             特大桥线形设计应综合考虑哪些因素？  路线总体走向、桥区地质、地形、安全通行、通航、已有建筑设施、环境敏感区等   \n",
      "\n",
      "   index_of_answer  number_of_same_answer  \n",
      "0                0                      1  \n",
      "1                0                      1  \n",
      "2                0                      1  \n",
      "3                0                      1  \n",
      "4                0                      1  \n",
      "<class 'pandas.core.frame.DataFrame'>\n",
      "RangeIndex: 226 entries, 0 to 225\n",
      "Data columns (total 5 columns):\n",
      " #   Column                 Non-Null Count  Dtype \n",
      "---  ------                 --------------  ----- \n",
      " 0   context                226 non-null    object\n",
      " 1   question               226 non-null    object\n",
      " 2   answer                 226 non-null    object\n",
      " 3   index_of_answer        226 non-null    int64 \n",
      " 4   number_of_same_answer  226 non-null    int64 \n",
      "dtypes: int64(2), object(3)\n",
      "memory usage: 9.0+ KB\n",
      "None \n",
      "\n",
      "200 20 6\n",
      "                                               context  \\\n",
      "216  3. 8.1 桥涵应设置维修养护通道。特大、大桥应根据需要设置必要的检查平台、扶梯、内照明、...   \n",
      "135  3. 5. 1\\t桥梁纵坡设计应符合下列规定：\\nl\\t桥上纵坡不宜大于4％，桥头引道纵坡不...   \n",
      "110  3. 4. 4\\t涵洞宜设计为无压力式的。无压力式涵洞内顶点至洞内设计洪水频率标准水位的净高...   \n",
      "77   3.4.1\\t桥涵净空应符合现行《公路工程技术标准》(JTG B01)中的公路建筑限界规定，...   \n",
      "28   3. 2. 1 桥梁应根据公路功能、等级、通行能力及抗洪防灾要求，结合水文、地质、通航、环境...   \n",
      "\n",
      "                           question                             answer  \\\n",
      "216                中桥何处必要时可设置水尺或标志？                               桥墩台旁   \n",
      "135                何处的线形应与桥梁的线形相匹配？                             桥头两端引道   \n",
      "110      跨线桥桥下畜力车及拖拉机通道的净宽应大于或等于多少？                               4.0m   \n",
      "77   作为干线功能的一级公路上特大桥的紧急停车带间距不宜大于多少？                               500m   \n",
      "28                   桥位不宜选择在什么样的河段？  河汉、沙洲、古河道、急弯、汇合口、港口作业区及易形成流冰、流木阻塞   \n",
      "\n",
      "     index_of_answer  number_of_same_answer  \n",
      "216                0                      1  \n",
      "135                0                      1  \n",
      "110                1                      2  \n",
      "77                 0                      1  \n",
      "28                 0                      1  \n"
     ]
    },
    {
     "data": {
      "text/plain": [
       "\"\\nprint(train_set.head())\\nprint(validate_set.head())\\nprint(test_set.head())\\nprint(test_set['answer'])\\n\""
      ]
     },
     "execution_count": 4,
     "metadata": {},
     "output_type": "execute_result"
    }
   ],
   "source": [
    "\n",
    "df = pd.read_excel('bridge QA 2024.07.25.xlsx')\n",
    "print(df.head())\n",
    "print(df.info(),'\\n')\n",
    "\n",
    "\n",
    "\n",
    "\n",
    "def split_data(data, validate_number=20, test_number=6): \n",
    "    shuffled_indices = np.random.permutation(len(data))\n",
    "    test_indices = shuffled_indices[:test_number]\n",
    "    validate_indices = shuffled_indices[test_number:test_number+validate_number]\n",
    "    train_indices = shuffled_indices[test_number+validate_number:]\n",
    "    return data.iloc[train_indices], data.iloc[validate_indices], data.iloc[test_indices]\n",
    "train_set, validate_set, test_set = split_data(df, validate_number=20, test_number=6) \n",
    "print(len(train_set),len(validate_set),len(test_set)) #200，20，6\n",
    "print( validate_set.head() )\n"
   ]
  },
  {
   "cell_type": "code",
   "execution_count": 5,
   "id": "f44d4e3d-d824-48fb-8ae2-c71b6a4e76f9",
   "metadata": {},
   "outputs": [],
   "source": [
    "def start_and_end_token_idx(context_ids, answer_ids, index_of_answer):\n",
    "    answer_ids=answer_ids[1:-1] \n",
    "    answer_ids_len=len(answer_ids)\n",
    "    answer_ids = ' '.join([str(i) for i in answer_ids]) \n",
    "    context_ids = ' '.join([str(i) for i in context_ids]) \n",
    "    context_ids=context_ids.replace(answer_ids,\"#\") \n",
    "    context_ids=context_ids.split() \n",
    "\n",
    "    \n",
    "    times=0\n",
    "    for i,value in enumerate(context_ids):\n",
    "        if value==\"#\":\n",
    "            if times==index_of_answer:\n",
    "                return i+(answer_ids_len-1)*times, i+(answer_ids_len-1)*times+(answer_ids_len-1)     \n",
    "            times +=1\n",
    "    \n"
   ]
  },
  {
   "cell_type": "code",
   "execution_count": 6,
   "id": "7461e5b2-b218-4a13-9801-cbbbab10a1a3",
   "metadata": {},
   "outputs": [],
   "source": [
    "class BridgeExample: \n",
    "     def __init__(self, question_text, context_text, answer_text, index_of_answer):\n",
    "         self.question = question_text\n",
    "         self.context = context_text\n",
    "         self.answer = answer_text\n",
    "         self.index_of_answer = index_of_answer \n",
    "         self.skip = False \n",
    "     def preprocess(self):\n",
    "        \n",
    "         context = \" \".join(str(self.context).split())\n",
    "         question = \" \".join(str(self.question).split()) \n",
    "         answer = \" \".join(str(self.answer).split())\n",
    "\n",
    "         tokenized_question = tokenizer.encode(question)\n",
    "         tokenized_context = tokenizer.encode(context)\n",
    "         tokenized_answer = tokenizer.encode(answer)\n",
    "\n",
    "         start_token_idx,end_token_idx=start_and_end_token_idx(tokenized_context.ids, tokenized_answer.ids, self.index_of_answer)\n",
    "\n",
    "\n",
    "         input_ids = tokenized_context.ids + tokenized_question.ids[1:]\n",
    "         token_type_ids = [0] * len(tokenized_context.ids) + [1] * len(tokenized_question.ids[1:]) #样本\n",
    "         attention_mask = [1] * len(input_ids) #样本\n",
    "\n",
    "\n",
    "\n",
    "         padding_length = max_len - len(input_ids)\n",
    "         if padding_length > 0: \n",
    "             input_ids = input_ids + ([0] * padding_length) \n",
    "             attention_mask = attention_mask + ([0] * padding_length) \n",
    "             token_type_ids = token_type_ids + ([0] * padding_length)\n",
    "         elif padding_length < 0: \n",
    "             self.skip = True\n",
    "             print(\"There is an example skip because of padding_length < 0\")\n",
    "             return\n",
    "         \n",
    "\n",
    "         self.input_ids = input_ids #样本\n",
    "         self.token_type_ids = token_type_ids #样本\n",
    "         self.attention_mask = attention_mask #样本\n",
    "         self.start_token_idx = start_token_idx #标签\n",
    "         self.end_token_idx = end_token_idx #标签\n",
    "\n"
   ]
  },
  {
   "cell_type": "code",
   "execution_count": 7,
   "id": "a606f137-ff1a-4377-989a-42223177a556",
   "metadata": {
    "scrolled": true
   },
   "outputs": [],
   "source": [
    "def create_bridge_examples(raw_data): \n",
    "    bridge_examples = []\n",
    "\n",
    "    for i in range( len(raw_data[\"context\"]) ):\n",
    "        context_text = raw_data.iloc[i][\"context\"] #上下文\n",
    "        question_text = raw_data.iloc[i][\"question\"] #问题\n",
    "        answer_text = raw_data.iloc[i][\"answer\"] #回答\n",
    "        index_of_answer = raw_data.iloc[i][\"index_of_answer\"] \n",
    "\n",
    "        bridge_eg = BridgeExample(question_text, context_text, answer_text, index_of_answer)\n",
    "        bridge_eg.preprocess() \n",
    "        bridge_examples.append(bridge_eg)\n",
    "    return bridge_examples 。\n",
    "\n",
    "def create_inputs_targets(bridge_examples): \n",
    "     dataset_dict = {\n",
    "         \"input_ids\": [],#样本的成员\n",
    "         \"token_type_ids\": [],#样本的成员\n",
    "         \"attention_mask\": [],#样本的成员\n",
    "         \"start_token_idx\": [],#标签的成员\n",
    "         \"end_token_idx\": [],#标签的成员\n",
    "     }\n",
    "     for item in bridge_examples:\n",
    "         if item.skip == False: #有效样本\n",
    "             for key in dataset_dict:\n",
    "                 dataset_dict[key].append(getattr(item, key))\n",
    "\n",
    "     for key in dataset_dict:\n",
    "         dataset_dict[key] = np.array(dataset_dict[key])\n",
    "\n",
    "\n",
    "     x = [ dataset_dict[\"input_ids\"], dataset_dict[\"token_type_ids\"], dataset_dict[\"attention_mask\"] ]#样本\n",
    "     y = [ dataset_dict[\"start_token_idx\"], dataset_dict[\"end_token_idx\"] ]#标签\n",
    "     return x, y"
   ]
  },
  {
   "cell_type": "code",
   "execution_count": 8,
   "id": "ffa65028-551f-4491-b971-ab454a937cba",
   "metadata": {},
   "outputs": [
    {
     "name": "stdout",
     "output_type": "stream",
     "text": [
      "200 training points created.\n",
      "20 evaLuation points created.\n",
      "6 test points created.\n"
     ]
    },
    {
     "data": {
      "text/plain": [
       "'\\nprint(len(x_eval)) #len(x_eval)=3\\nprint(len(y_eval)) #len(y_eval)=2\\n\\nx_eval= [array([[ 101, 3565, 4605, ...,    0,    0,    0],\\n       [ 101, 3565, 4605, ...,    0,    0,    0],\\n       [ 101, 3565, 4605, ...,    0,    0,    0],\\n       ...,\\n       [ 101, 1996, 9044, ...,    0,    0,    0],\\n       [ 101, 1996, 9044, ...,    0,    0,    0],\\n       [ 101, 1996, 9044, ...,    0,    0,    0]]), array([[0, 0, 0, ..., 0, 0, 0],\\n       [0, 0, 0, ..., 0, 0, 0],\\n       [0, 0, 0, ..., 0, 0, 0],\\n       ...,\\n       [0, 0, 0, ..., 0, 0, 0],\\n       [0, 0, 0, ..., 0, 0, 0],\\n       [0, 0, 0, ..., 0, 0, 0]]), array([[1, 1, 1, ..., 0, 0, 0],\\n       [1, 1, 1, ..., 0, 0, 0],\\n       [1, 1, 1, ..., 0, 0, 0],\\n       ...,\\n       [1, 1, 1, ..., 0, 0, 0],\\n       [1, 1, 1, ..., 0, 0, 0],\\n       [1, 1, 1, ..., 0, 0, 0]])]\\ny_eval= [array([ 34,  45,  80, ...,  68, 171, 158]), array([ 35,  46,  83, ...,  68, 172, 160])]\\n'"
      ]
     },
     "execution_count": 8,
     "metadata": {},
     "output_type": "execute_result"
    }
   ],
   "source": [
    "\n",
    "train_bridge_examples = create_bridge_examples(train_set) #训练集\n",
    "x_train, y_train = create_inputs_targets(train_bridge_examples) \n",
    "print(f\"{len(train_bridge_examples)} training points created.\")\n",
    "\n",
    "eval_bridge_examples = create_bridge_examples(validate_set) #验证集\n",
    "x_eval, y_eval = create_inputs_targets(eval_bridge_examples)\n",
    "print(f\"{len(eval_bridge_examples)} evaLuation points created.\")\n",
    "\n",
    "test_bridge_examples = create_bridge_examples(test_set) #测试集\n",
    "x_test, y_test = create_inputs_targets(test_bridge_examples)\n",
    "print(f\"{len(test_bridge_examples)} test points created.\")\n",
    "\n"
   ]
  },
  {
   "cell_type": "code",
   "execution_count": 10,
   "id": "491bdea7-b04c-4698-822b-fe2c93300c9d",
   "metadata": {},
   "outputs": [
    {
     "name": "stdout",
     "output_type": "stream",
     "text": [
      "3.4.0\n",
      "0.13.0\n"
     ]
    }
   ],
   "source": [
    "\n",
    "os.environ[\"KERAS_BACKEND\"] = \"tensorflow\" \n",
    "import keras\n",
    "import keras_nlp\n",
    "print(keras.__version__) #3.4.0\n",
    "print(keras_nlp.__version__) #0.12.1\n",
    "\n",
    "def create_model():\n",
    "     encoder = keras_nlp.models.Backbone.from_preset(\"bert_base_zh\", load_weights=True) \n",
    "     encoder.enable_lora(rank=16) \n",
    "     input_ids = layers.Input(shape=(max_len,), dtype=tf.int32)\n",
    "     token_type_ids = layers.Input(shape=(max_len,), dtype=tf.int32)\n",
    "     attention_mask = layers.Input(shape=(max_len,), dtype=tf.int32)\n",
    "     embedding = encoder( {\"token_ids\":input_ids, \"segment_ids\":token_type_ids, \"padding_mask\":attention_mask} )\n",
    "     start_logits = layers.Dense(1, name=\"start_logit\", use_bias=False)(embedding['sequence_output']) \n",
    "     start_logits = layers.Flatten()(start_logits)\n",
    "     end_logits = layers.Dense(1, name=\"end_logit\", use_bias=False)(embedding['sequence_output'])\n",
    "     end_logits = layers.Flatten()(end_logits)\n",
    "     start_probs = layers.Activation(keras.activations.softmax)(start_logits) \n",
    "     end_probs = layers.Activation(keras.activations.softmax)(end_logits)\n",
    "     model = keras.Model( inputs=[input_ids, token_type_ids, attention_mask], outputs=[start_probs, end_probs] )\n",
    "     loss = keras.losses.SparseCategoricalCrossentropy(from_logits=False) \n",
    "     optimizer = keras.optimizers.Adam(learning_rate=learning_rate)\n",
    "     model.compile(optimizer=optimizer, loss=[loss, loss],metrics=['accuracy','accuracy'] ) \n",
    "     return model"
   ]
  },
  {
   "cell_type": "code",
   "execution_count": 12,
   "id": "71ac9c02-52d0-4f3e-baa4-9067b4261b80",
   "metadata": {},
   "outputs": [
    {
     "name": "stderr",
     "output_type": "stream",
     "text": [
      "Downloading from https://www.kaggle.com/api/v1/models/keras/bert/keras/bert_base_zh/2/download/model.safetensors...\n",
      "Downloading from https://www.kaggle.com/api/v1/models/keras/bert/keras/bert_base_zh/2/download/model.safetensors.index.json...\n"
     ]
    },
    {
     "data": {
      "text/html": [
       "<pre style=\"white-space:pre;overflow-x:auto;line-height:normal;font-family:Menlo,'DejaVu Sans Mono',consolas,'Courier New',monospace\"><span style=\"font-weight: bold\">Model: \"functional\"</span>\n",
       "</pre>\n"
      ],
      "text/plain": [
       "\u001b[1mModel: \"functional\"\u001b[0m\n"
      ]
     },
     "metadata": {},
     "output_type": "display_data"
    },
    {
     "data": {
      "text/html": [
       "<pre style=\"white-space:pre;overflow-x:auto;line-height:normal;font-family:Menlo,'DejaVu Sans Mono',consolas,'Courier New',monospace\">┏━━━━━━━━━━━━━━━━━━━━━┳━━━━━━━━━━━━━━━━━━━┳━━━━━━━━━━━━┳━━━━━━━━━━━━━━━━━━━┓\n",
       "┃<span style=\"font-weight: bold\"> Layer (type)        </span>┃<span style=\"font-weight: bold\"> Output Shape      </span>┃<span style=\"font-weight: bold\">    Param # </span>┃<span style=\"font-weight: bold\"> Connected to      </span>┃\n",
       "┡━━━━━━━━━━━━━━━━━━━━━╇━━━━━━━━━━━━━━━━━━━╇━━━━━━━━━━━━╇━━━━━━━━━━━━━━━━━━━┩\n",
       "│ input_layer_2       │ (<span style=\"color: #00d7ff; text-decoration-color: #00d7ff\">None</span>, <span style=\"color: #00af00; text-decoration-color: #00af00\">512</span>)       │          <span style=\"color: #00af00; text-decoration-color: #00af00\">0</span> │ -                 │\n",
       "│ (<span style=\"color: #0087ff; text-decoration-color: #0087ff\">InputLayer</span>)        │                   │            │                   │\n",
       "├─────────────────────┼───────────────────┼────────────┼───────────────────┤\n",
       "│ input_layer_1       │ (<span style=\"color: #00d7ff; text-decoration-color: #00d7ff\">None</span>, <span style=\"color: #00af00; text-decoration-color: #00af00\">512</span>)       │          <span style=\"color: #00af00; text-decoration-color: #00af00\">0</span> │ -                 │\n",
       "│ (<span style=\"color: #0087ff; text-decoration-color: #0087ff\">InputLayer</span>)        │                   │            │                   │\n",
       "├─────────────────────┼───────────────────┼────────────┼───────────────────┤\n",
       "│ input_layer         │ (<span style=\"color: #00d7ff; text-decoration-color: #00d7ff\">None</span>, <span style=\"color: #00af00; text-decoration-color: #00af00\">512</span>)       │          <span style=\"color: #00af00; text-decoration-color: #00af00\">0</span> │ -                 │\n",
       "│ (<span style=\"color: #0087ff; text-decoration-color: #0087ff\">InputLayer</span>)        │                   │            │                   │\n",
       "├─────────────────────┼───────────────────┼────────────┼───────────────────┤\n",
       "│ bert_backbone       │ [(<span style=\"color: #00d7ff; text-decoration-color: #00d7ff\">None</span>, <span style=\"color: #00af00; text-decoration-color: #00af00\">768</span>),     │ <span style=\"color: #00af00; text-decoration-color: #00af00\">105,831,1…</span> │ input_layer_2[<span style=\"color: #00af00; text-decoration-color: #00af00\">0</span>]… │\n",
       "│ (<span style=\"color: #0087ff; text-decoration-color: #0087ff\">BertBackbone</span>)      │ (<span style=\"color: #00d7ff; text-decoration-color: #00d7ff\">None</span>, <span style=\"color: #00af00; text-decoration-color: #00af00\">512</span>, <span style=\"color: #00af00; text-decoration-color: #00af00\">768</span>)] │            │ input_layer_1[<span style=\"color: #00af00; text-decoration-color: #00af00\">0</span>]… │\n",
       "│                     │                   │            │ input_layer[<span style=\"color: #00af00; text-decoration-color: #00af00\">0</span>][<span style=\"color: #00af00; text-decoration-color: #00af00\">0</span>] │\n",
       "├─────────────────────┼───────────────────┼────────────┼───────────────────┤\n",
       "│ start_logit (<span style=\"color: #0087ff; text-decoration-color: #0087ff\">Dense</span>) │ (<span style=\"color: #00d7ff; text-decoration-color: #00d7ff\">None</span>, <span style=\"color: #00af00; text-decoration-color: #00af00\">512</span>, <span style=\"color: #00af00; text-decoration-color: #00af00\">1</span>)    │        <span style=\"color: #00af00; text-decoration-color: #00af00\">768</span> │ bert_backbone[<span style=\"color: #00af00; text-decoration-color: #00af00\">0</span>]… │\n",
       "├─────────────────────┼───────────────────┼────────────┼───────────────────┤\n",
       "│ end_logit (<span style=\"color: #0087ff; text-decoration-color: #0087ff\">Dense</span>)   │ (<span style=\"color: #00d7ff; text-decoration-color: #00d7ff\">None</span>, <span style=\"color: #00af00; text-decoration-color: #00af00\">512</span>, <span style=\"color: #00af00; text-decoration-color: #00af00\">1</span>)    │        <span style=\"color: #00af00; text-decoration-color: #00af00\">768</span> │ bert_backbone[<span style=\"color: #00af00; text-decoration-color: #00af00\">0</span>]… │\n",
       "├─────────────────────┼───────────────────┼────────────┼───────────────────┤\n",
       "│ flatten (<span style=\"color: #0087ff; text-decoration-color: #0087ff\">Flatten</span>)   │ (<span style=\"color: #00d7ff; text-decoration-color: #00d7ff\">None</span>, <span style=\"color: #00af00; text-decoration-color: #00af00\">512</span>)       │          <span style=\"color: #00af00; text-decoration-color: #00af00\">0</span> │ start_logit[<span style=\"color: #00af00; text-decoration-color: #00af00\">0</span>][<span style=\"color: #00af00; text-decoration-color: #00af00\">0</span>] │\n",
       "├─────────────────────┼───────────────────┼────────────┼───────────────────┤\n",
       "│ flatten_1 (<span style=\"color: #0087ff; text-decoration-color: #0087ff\">Flatten</span>) │ (<span style=\"color: #00d7ff; text-decoration-color: #00d7ff\">None</span>, <span style=\"color: #00af00; text-decoration-color: #00af00\">512</span>)       │          <span style=\"color: #00af00; text-decoration-color: #00af00\">0</span> │ end_logit[<span style=\"color: #00af00; text-decoration-color: #00af00\">0</span>][<span style=\"color: #00af00; text-decoration-color: #00af00\">0</span>]   │\n",
       "├─────────────────────┼───────────────────┼────────────┼───────────────────┤\n",
       "│ activation          │ (<span style=\"color: #00d7ff; text-decoration-color: #00d7ff\">None</span>, <span style=\"color: #00af00; text-decoration-color: #00af00\">512</span>)       │          <span style=\"color: #00af00; text-decoration-color: #00af00\">0</span> │ flatten[<span style=\"color: #00af00; text-decoration-color: #00af00\">0</span>][<span style=\"color: #00af00; text-decoration-color: #00af00\">0</span>]     │\n",
       "│ (<span style=\"color: #0087ff; text-decoration-color: #0087ff\">Activation</span>)        │                   │            │                   │\n",
       "├─────────────────────┼───────────────────┼────────────┼───────────────────┤\n",
       "│ activation_1        │ (<span style=\"color: #00d7ff; text-decoration-color: #00d7ff\">None</span>, <span style=\"color: #00af00; text-decoration-color: #00af00\">512</span>)       │          <span style=\"color: #00af00; text-decoration-color: #00af00\">0</span> │ flatten_1[<span style=\"color: #00af00; text-decoration-color: #00af00\">0</span>][<span style=\"color: #00af00; text-decoration-color: #00af00\">0</span>]   │\n",
       "│ (<span style=\"color: #0087ff; text-decoration-color: #0087ff\">Activation</span>)        │                   │            │                   │\n",
       "└─────────────────────┴───────────────────┴────────────┴───────────────────┘\n",
       "</pre>\n"
      ],
      "text/plain": [
       "┏━━━━━━━━━━━━━━━━━━━━━┳━━━━━━━━━━━━━━━━━━━┳━━━━━━━━━━━━┳━━━━━━━━━━━━━━━━━━━┓\n",
       "┃\u001b[1m \u001b[0m\u001b[1mLayer (type)       \u001b[0m\u001b[1m \u001b[0m┃\u001b[1m \u001b[0m\u001b[1mOutput Shape     \u001b[0m\u001b[1m \u001b[0m┃\u001b[1m \u001b[0m\u001b[1m   Param #\u001b[0m\u001b[1m \u001b[0m┃\u001b[1m \u001b[0m\u001b[1mConnected to     \u001b[0m\u001b[1m \u001b[0m┃\n",
       "┡━━━━━━━━━━━━━━━━━━━━━╇━━━━━━━━━━━━━━━━━━━╇━━━━━━━━━━━━╇━━━━━━━━━━━━━━━━━━━┩\n",
       "│ input_layer_2       │ (\u001b[38;5;45mNone\u001b[0m, \u001b[38;5;34m512\u001b[0m)       │          \u001b[38;5;34m0\u001b[0m │ -                 │\n",
       "│ (\u001b[38;5;33mInputLayer\u001b[0m)        │                   │            │                   │\n",
       "├─────────────────────┼───────────────────┼────────────┼───────────────────┤\n",
       "│ input_layer_1       │ (\u001b[38;5;45mNone\u001b[0m, \u001b[38;5;34m512\u001b[0m)       │          \u001b[38;5;34m0\u001b[0m │ -                 │\n",
       "│ (\u001b[38;5;33mInputLayer\u001b[0m)        │                   │            │                   │\n",
       "├─────────────────────┼───────────────────┼────────────┼───────────────────┤\n",
       "│ input_layer         │ (\u001b[38;5;45mNone\u001b[0m, \u001b[38;5;34m512\u001b[0m)       │          \u001b[38;5;34m0\u001b[0m │ -                 │\n",
       "│ (\u001b[38;5;33mInputLayer\u001b[0m)        │                   │            │                   │\n",
       "├─────────────────────┼───────────────────┼────────────┼───────────────────┤\n",
       "│ bert_backbone       │ [(\u001b[38;5;45mNone\u001b[0m, \u001b[38;5;34m768\u001b[0m),     │ \u001b[38;5;34m105,831,1…\u001b[0m │ input_layer_2[\u001b[38;5;34m0\u001b[0m]… │\n",
       "│ (\u001b[38;5;33mBertBackbone\u001b[0m)      │ (\u001b[38;5;45mNone\u001b[0m, \u001b[38;5;34m512\u001b[0m, \u001b[38;5;34m768\u001b[0m)] │            │ input_layer_1[\u001b[38;5;34m0\u001b[0m]… │\n",
       "│                     │                   │            │ input_layer[\u001b[38;5;34m0\u001b[0m][\u001b[38;5;34m0\u001b[0m] │\n",
       "├─────────────────────┼───────────────────┼────────────┼───────────────────┤\n",
       "│ start_logit (\u001b[38;5;33mDense\u001b[0m) │ (\u001b[38;5;45mNone\u001b[0m, \u001b[38;5;34m512\u001b[0m, \u001b[38;5;34m1\u001b[0m)    │        \u001b[38;5;34m768\u001b[0m │ bert_backbone[\u001b[38;5;34m0\u001b[0m]… │\n",
       "├─────────────────────┼───────────────────┼────────────┼───────────────────┤\n",
       "│ end_logit (\u001b[38;5;33mDense\u001b[0m)   │ (\u001b[38;5;45mNone\u001b[0m, \u001b[38;5;34m512\u001b[0m, \u001b[38;5;34m1\u001b[0m)    │        \u001b[38;5;34m768\u001b[0m │ bert_backbone[\u001b[38;5;34m0\u001b[0m]… │\n",
       "├─────────────────────┼───────────────────┼────────────┼───────────────────┤\n",
       "│ flatten (\u001b[38;5;33mFlatten\u001b[0m)   │ (\u001b[38;5;45mNone\u001b[0m, \u001b[38;5;34m512\u001b[0m)       │          \u001b[38;5;34m0\u001b[0m │ start_logit[\u001b[38;5;34m0\u001b[0m][\u001b[38;5;34m0\u001b[0m] │\n",
       "├─────────────────────┼───────────────────┼────────────┼───────────────────┤\n",
       "│ flatten_1 (\u001b[38;5;33mFlatten\u001b[0m) │ (\u001b[38;5;45mNone\u001b[0m, \u001b[38;5;34m512\u001b[0m)       │          \u001b[38;5;34m0\u001b[0m │ end_logit[\u001b[38;5;34m0\u001b[0m][\u001b[38;5;34m0\u001b[0m]   │\n",
       "├─────────────────────┼───────────────────┼────────────┼───────────────────┤\n",
       "│ activation          │ (\u001b[38;5;45mNone\u001b[0m, \u001b[38;5;34m512\u001b[0m)       │          \u001b[38;5;34m0\u001b[0m │ flatten[\u001b[38;5;34m0\u001b[0m][\u001b[38;5;34m0\u001b[0m]     │\n",
       "│ (\u001b[38;5;33mActivation\u001b[0m)        │                   │            │                   │\n",
       "├─────────────────────┼───────────────────┼────────────┼───────────────────┤\n",
       "│ activation_1        │ (\u001b[38;5;45mNone\u001b[0m, \u001b[38;5;34m512\u001b[0m)       │          \u001b[38;5;34m0\u001b[0m │ flatten_1[\u001b[38;5;34m0\u001b[0m][\u001b[38;5;34m0\u001b[0m]   │\n",
       "│ (\u001b[38;5;33mActivation\u001b[0m)        │                   │            │                   │\n",
       "└─────────────────────┴───────────────────┴────────────┴───────────────────┘\n"
      ]
     },
     "metadata": {},
     "output_type": "display_data"
    },
    {
     "data": {
      "text/html": [
       "<pre style=\"white-space:pre;overflow-x:auto;line-height:normal;font-family:Menlo,'DejaVu Sans Mono',consolas,'Courier New',monospace\"><span style=\"font-weight: bold\"> Total params: </span><span style=\"color: #00af00; text-decoration-color: #00af00\">105,832,704</span> (403.72 MB)\n",
       "</pre>\n"
      ],
      "text/plain": [
       "\u001b[1m Total params: \u001b[0m\u001b[38;5;34m105,832,704\u001b[0m (403.72 MB)\n"
      ]
     },
     "metadata": {},
     "output_type": "display_data"
    },
    {
     "data": {
      "text/html": [
       "<pre style=\"white-space:pre;overflow-x:auto;line-height:normal;font-family:Menlo,'DejaVu Sans Mono',consolas,'Courier New',monospace\"><span style=\"font-weight: bold\"> Trainable params: </span><span style=\"color: #00af00; text-decoration-color: #00af00\">3,583,488</span> (13.67 MB)\n",
       "</pre>\n"
      ],
      "text/plain": [
       "\u001b[1m Trainable params: \u001b[0m\u001b[38;5;34m3,583,488\u001b[0m (13.67 MB)\n"
      ]
     },
     "metadata": {},
     "output_type": "display_data"
    },
    {
     "data": {
      "text/html": [
       "<pre style=\"white-space:pre;overflow-x:auto;line-height:normal;font-family:Menlo,'DejaVu Sans Mono',consolas,'Courier New',monospace\"><span style=\"font-weight: bold\"> Non-trainable params: </span><span style=\"color: #00af00; text-decoration-color: #00af00\">102,249,216</span> (390.05 MB)\n",
       "</pre>\n"
      ],
      "text/plain": [
       "\u001b[1m Non-trainable params: \u001b[0m\u001b[38;5;34m102,249,216\u001b[0m (390.05 MB)\n"
      ]
     },
     "metadata": {},
     "output_type": "display_data"
    }
   ],
   "source": [
    "model = create_model()\n",
    "model.summary()"
   ]
  },
  {
   "cell_type": "code",
   "execution_count": 13,
   "id": "50557c28-fd38-4736-b901-fa73cfc0bf10",
   "metadata": {},
   "outputs": [],
   "source": [
    "class ExactMatch(keras.callbacks.Callback):\n",
    "     def __init__(self, x_eval, y_eval):\n",
    "         self.x_eval = x_eval\n",
    "         self.y_eval = y_eval\n",
    "     def on_epoch_end(self, epoch, logs=None):\n",
    "         pred_start, pred_end = self.model.predict(self.x_eval) \n",
    "         count = 0\n",
    "         for idx, (start, end) in enumerate(zip(pred_start, pred_end)):\n",
    "             start = np.argmax(start) \n",
    "             end = np.argmax(end)\n",
    "             if start == self.y_eval[0][idx] and end == self.y_eval[1][idx]:\n",
    "                 count += 1 \n",
    "         acc = count / len(self.y_eval[0])\n",
    "         print(f\"\\nepoch={epoch+1}, exact match score={acc:.2f}\") \n",
    "         #self.model.save_weights('./save_weights/my_model_%03d.weights.h5'%epoch) #每轮均保存模型"
   ]
  },
  {
   "cell_type": "code",
   "execution_count": 14,
   "id": "7b702d82-b3de-40c6-b89d-638e4a09502b",
   "metadata": {},
   "outputs": [
    {
     "name": "stderr",
     "output_type": "stream",
     "text": [
      "WARNING: All log messages before absl::InitializeLog() is called are written to STDERR\n",
      "I0000 00:00:1723517329.075085     754 service.cc:145] XLA service 0x7f7ed00395b0 initialized for platform CUDA (this does not guarantee that XLA will be used). Devices:\n",
      "I0000 00:00:1723517329.075143     754 service.cc:153]   StreamExecutor device (0): NVIDIA GeForce RTX 4060 Ti, Compute Capability 8.9\n",
      "2024-08-13 10:48:49.215922: I tensorflow/compiler/mlir/tensorflow/utils/dump_mlir_util.cc:268] disabling MLIR crash reproducer, set env var `MLIR_CRASH_REPRODUCER_DIRECTORY` to enable.\n",
      "2024-08-13 10:48:49.558215: I external/local_xla/xla/stream_executor/cuda/cuda_dnn.cc:465] Loaded cuDNN version 8907\n"
     ]
    },
    {
     "name": "stdout",
     "output_type": "stream",
     "text": [
      "\u001b[1m1/7\u001b[0m \u001b[32m━━\u001b[0m\u001b[37m━━━━━━━━━━━━━━━━━━\u001b[0m \u001b[1m31s\u001b[0m 5s/step"
     ]
    },
    {
     "name": "stderr",
     "output_type": "stream",
     "text": [
      "I0000 00:00:1723517332.721567     754 device_compiler.h:188] Compiled cluster using XLA!  This line is logged at most once for the lifetime of the process.\n"
     ]
    },
    {
     "name": "stdout",
     "output_type": "stream",
     "text": [
      "\u001b[1m7/7\u001b[0m \u001b[32m━━━━━━━━━━━━━━━━━━━━\u001b[0m\u001b[37m\u001b[0m \u001b[1m11s\u001b[0m 987ms/step\n",
      "样本数量= 200\n",
      "精度=0% \n",
      "\n",
      "\u001b[1m1/1\u001b[0m \u001b[32m━━━━━━━━━━━━━━━━━━━━\u001b[0m\u001b[37m\u001b[0m \u001b[1m3s\u001b[0m 3s/step\n",
      "样本数量= 20\n",
      "精度=0% \n",
      "\n",
      "\u001b[1m1/1\u001b[0m \u001b[32m━━━━━━━━━━━━━━━━━━━━\u001b[0m\u001b[37m\u001b[0m \u001b[1m3s\u001b[0m 3s/step\n",
      "样本数量= 6\n",
      "精度=0% \n",
      "\n",
      "label= 169 170 \n",
      " 交 通\n",
      "预测= 112 11 \n",
      "  \n",
      "\n",
      "label= 13 16 \n",
      " 洪 水 主 流\n",
      "预测= 5 301 \n",
      " 3 桥 梁 纵 轴 线 宜 与 洪 水 主 流 流 向 正 交 。 对 通 航 河 流 上 的 桥 梁 ， 其 墩 台 沿 水 流 方 向 的 轴 线 应 与 最 高 通 航 水 位 时 的 主 流 方 向 一 致 。 当 斜 交 不 能 避 免 时 ， 交 角 不 宜 大 于 5° ; 当 交 角 大 于 5° 且 斜 桥 正 做 时 ， 墩 （ 台 ） 边 缘 净 距 宜 按 式 ( 3. 2. 3 ) 计 算 ， 其 计 算 简 图 如 图 3. 2. 3 所 示 。 3. 2. 4 桥 涵 水 文 、 水 力 的 计 算 应 符 合 现 行 《 公 路 工 程 地 质 勘 察 规 范 》 ( jtg c20 ) 和 《 公 路 工 程 水 文 勘 测 设 计 规 范 》 ( jtg c30 ) 的 规 定 。 3. 2. 5 通 航 海 轮 的 桥 梁 布 置 应 满 足 现 行 《 通 航 海 轮 桥 梁 通 航 标 准 》 ( jtj 311 ) 的 规 定 。 通 航 内 河 桥 梁 的 布 置 应 满 足 现 行 《 内 河 通 航 标 准 》 ( gb 50139 ) 的 规 定 ， 并 应 充 分 考 虑 河 床 演 变 和 不 同 通 航 水 位 航 迹 线 的 变 化 。 3. 2. 6 位 于 通 航 水 域 中 的 \n",
      "\n",
      "label= 196 206 \n",
      " 不 宜 设 计 成 平 坡 或 凹 曲 线\n",
      "预测= 212 195 \n",
      "  \n",
      "\n",
      "label= 68 69 \n",
      " 路 堤\n",
      "预测= 152 273 \n",
      " 3. 2 小 桥 、 涵 洞 的 孔 径 ， 应 根 据 设 计 洪 水 流 量 、 河 床 地 质 、 河 床 和 锥 坡 加 固 形 式 等 条 件 确 定 ， 并 应 符 合 下 列 规 定 ： 1 当 缺 少 水 文 资 料 时 ， 可 根 据 现 场 调 查 的 多 年 洪 水 痕 迹 、 泛 滥 范 围 和 既 有 桥 涵 验 算 小 桥 、 涵 洞 的 孔 径 。 2 当 小 桥 、 涵 洞 的 上 游 条 件 许 可 积 水 时 ， 依 暴 雨 径 流 计 算 的 \n",
      "\n",
      "label= 136 171 \n",
      " 路 线 总 体 走 向 、 桥 区 地 质 、 地 形 、 安 全 通 行 、 通 航 、 已 有 建 筑 设 施 、 环 境 敏 感 区 等\n",
      "预测= 212 195 \n",
      "  \n",
      "\n",
      "label= 358 361 \n",
      " 4. 0m\n",
      "预测= 47 322 \n",
      " 3. 4. 4 的 规 定 。 3. 4. 5 立 体 交 叉 跨 线 桥 桥 下 净 空 应 符 合 下 列 规 定 ： 1 公 路 与 公 路 立 体 交 叉 的 跨 线 桥 桥 下 净 空 及 布 孔 除 应 符 合 本 规 范 第 3. 4. 1 条 桥 涵 净 空 的 规 定 外 ， 尚 应 满 足 桥 下 公 路 的 视 距 和 前 方 信 息 识 别 的 要 求 ， 其 结 构 形 式 应 与 周 围 环 境 相 协 调 。 2 铁 路 从 公 路 上 跨 越 通 过 时 ， 其 跨 线 桥 桥 下 净 空 及 布 孔 除 应 符 合 本 规 范 第 3. 4. 1 条 桥 涵 净 空 的 规 定 外 ， 尚 应 满 足 桥 下 公 路 的 视 距 和 前 方 信 息 识 别 的 要 求 。 3 农 村 道 路 与 公 路 立 体 交 叉 的 跨 线 桥 桥 下 净 空 为 ： 1 ) 当 农 村 道 路 从 公 路 上 面 跨 越 时 ， 跨 线 桥 桥 下 净 空 应 符 合 本 规 范 第 3. 4. 1 条 建 筑 限 界 的 规 定 ； 2 ) 当 农 村 道 路 从 公 路 下 面 穿 过 时 ， 其 净 空 可 根 据 当 地 通 行 的 \n",
      "\n"
     ]
    }
   ],
   "source": [
    "def predict_result(x_data, y_data, show=False):\n",
    "    pred_start, pred_end = model.predict(x_data) \n",
    "    count = 0\n",
    "    for idx, (start, end) in enumerate(zip(pred_start, pred_end)):\n",
    "        start = np.argmax(start) \n",
    "        end = np.argmax(end)\n",
    "        if start == y_data[0][idx] and end == y_data[1][idx]: \n",
    "            count += 1 \n",
    "    acc = count / len(y_data[0])    \n",
    "    print('样本数量=',len(y_data[0]))\n",
    "    print(f\"精度={acc:.0%}\", \"\\n\") \n",
    "    if show:\n",
    "        for num_of_example in range( len(y_data[0]) ):\n",
    "            context_AND_question=tokenizer.decode(x_data[0][num_of_example]) \n",
    "            label=tokenizer.decode(x_data[0][num_of_example][y_data[0][num_of_example] : y_data[1][num_of_example]+1]) \n",
    "            print('label=',y_data[0][num_of_example] , y_data[1][num_of_example],\"\\n\",label)\n",
    "            answer_start = np.argmax(pred_start[num_of_example])\n",
    "            answer_end = np.argmax(pred_end[num_of_example])\n",
    "            label=tokenizer.decode(x_data[0][num_of_example][answer_start : answer_end+1])\n",
    "            print('预测=',answer_start,answer_end,\"\\n\",label, \"\\n\")\n",
    "\n",
    "        \n",
    "predict_result(x_train, y_train, show=False) \n",
    "predict_result(x_eval, y_eval, show=False) \n",
    "predict_result(x_test, y_test, show=True) #show=True输出标签与预测结果\n",
    "\n"
   ]
  },
  {
   "cell_type": "code",
   "execution_count": 15,
   "id": "92aa0472-e3d2-471d-a1e2-1e63304ae79e",
   "metadata": {},
   "outputs": [
    {
     "name": "stdout",
     "output_type": "stream",
     "text": [
      "Epoch 1/50\n"
     ]
    },
    {
     "name": "stderr",
     "output_type": "stream",
     "text": [
      "WARNING: All log messages before absl::InitializeLog() is called are written to STDERR\n",
      "I0000 00:00:1723517392.297141    1186 asm_compiler.cc:369] ptxas warning : Registers are spilled to local memory in function 'triton_gemm_dot_100', 108 bytes spill stores, 108 bytes spill loads\n",
      "\n",
      "I0000 00:00:1723517392.777481    1191 asm_compiler.cc:369] ptxas warning : Registers are spilled to local memory in function 'triton_gemm_dot_100', 1112 bytes spill stores, 1260 bytes spill loads\n",
      "\n",
      "I0000 00:00:1723517393.506873    1188 asm_compiler.cc:369] ptxas warning : Registers are spilled to local memory in function 'triton_gemm_dot_100', 260 bytes spill stores, 260 bytes spill loads\n",
      "\n",
      "I0000 00:00:1723517393.705774    1191 asm_compiler.cc:369] ptxas warning : Registers are spilled to local memory in function 'triton_gemm_dot_100', 344 bytes spill stores, 344 bytes spill loads\n",
      "\n",
      "I0000 00:00:1723517393.767919    1182 asm_compiler.cc:369] ptxas warning : Registers are spilled to local memory in function 'triton_gemm_dot_595', 8 bytes spill stores, 8 bytes spill loads\n",
      "\n",
      "I0000 00:00:1723517394.080783    1189 asm_compiler.cc:369] ptxas warning : Registers are spilled to local memory in function 'triton_gemm_dot_102', 108 bytes spill stores, 108 bytes spill loads\n",
      "\n",
      "I0000 00:00:1723517395.436387    1189 asm_compiler.cc:369] ptxas warning : Registers are spilled to local memory in function 'triton_gemm_dot_102', 232 bytes spill stores, 232 bytes spill loads\n",
      "\n",
      "I0000 00:00:1723517395.461972    1187 asm_compiler.cc:369] ptxas warning : Registers are spilled to local memory in function 'triton_gemm_dot_102', 1112 bytes spill stores, 1260 bytes spill loads\n",
      "\n",
      "I0000 00:00:1723517396.221309    1186 asm_compiler.cc:369] ptxas warning : Registers are spilled to local memory in function 'triton_gemm_dot_104', 76 bytes spill stores, 76 bytes spill loads\n",
      "\n",
      "I0000 00:00:1723517396.256368    1187 asm_compiler.cc:369] ptxas warning : Registers are spilled to local memory in function 'triton_gemm_dot_102', 344 bytes spill stores, 344 bytes spill loads\n",
      "\n",
      "I0000 00:00:1723517396.391302    1185 asm_compiler.cc:369] ptxas warning : Registers are spilled to local memory in function 'triton_gemm_dot_104', 1056 bytes spill stores, 1200 bytes spill loads\n",
      "\n",
      "I0000 00:00:1723517427.161028     754 asm_compiler.cc:369] ptxas warning : Registers are spilled to local memory in function 'loop_add_subtract_fusion_18', 16 bytes spill stores, 16 bytes spill loads\n",
      "\n"
     ]
    },
    {
     "name": "stdout",
     "output_type": "stream",
     "text": [
      "\u001b[1m25/25\u001b[0m \u001b[32m━━━━━━━━━━━━━━━━━━━━\u001b[0m\u001b[37m\u001b[0m \u001b[1m0s\u001b[0m 210ms/step - activation_1_accuracy: 0.0415 - activation_accuracy: 0.0218 - loss: 11.5591"
     ]
    },
    {
     "name": "stderr",
     "output_type": "stream",
     "text": [
      "I0000 00:00:1723517437.809966    1686 asm_compiler.cc:369] ptxas warning : Registers are spilled to local memory in function 'triton_gemm_dot_111', 20 bytes spill stores, 20 bytes spill loads\n",
      "\n",
      "I0000 00:00:1723517438.126866    1694 asm_compiler.cc:369] ptxas warning : Registers are spilled to local memory in function 'triton_gemm_dot_111', 264 bytes spill stores, 264 bytes spill loads\n",
      "\n",
      "I0000 00:00:1723517438.871282    1695 asm_compiler.cc:369] ptxas warning : Registers are spilled to local memory in function 'triton_gemm_dot_111', 12 bytes spill stores, 12 bytes spill loads\n",
      "\n",
      "I0000 00:00:1723517439.007635    1685 asm_compiler.cc:369] ptxas warning : Registers are spilled to local memory in function 'triton_gemm_dot_111', 96 bytes spill stores, 96 bytes spill loads\n",
      "\n",
      "I0000 00:00:1723517439.108026    1688 asm_compiler.cc:369] ptxas warning : Registers are spilled to local memory in function 'triton_gemm_dot_111', 1216 bytes spill stores, 1232 bytes spill loads\n",
      "\n"
     ]
    },
    {
     "name": "stdout",
     "output_type": "stream",
     "text": [
      "\u001b[1m25/25\u001b[0m \u001b[32m━━━━━━━━━━━━━━━━━━━━\u001b[0m\u001b[37m\u001b[0m \u001b[1m97s\u001b[0m 584ms/step - activation_1_accuracy: 0.0432 - activation_accuracy: 0.0233 - loss: 11.5081 - val_activation_1_accuracy: 0.5500 - val_activation_accuracy: 0.4000 - val_loss: 5.0488\n",
      "Epoch 2/50\n",
      "\u001b[1m25/25\u001b[0m \u001b[32m━━━━━━━━━━━━━━━━━━━━\u001b[0m\u001b[37m\u001b[0m \u001b[1m6s\u001b[0m 220ms/step - activation_1_accuracy: 0.4306 - activation_accuracy: 0.5695 - loss: 4.0535 - val_activation_1_accuracy: 0.7500 - val_activation_accuracy: 0.8500 - val_loss: 1.7323\n",
      "Epoch 3/50\n",
      "\u001b[1m25/25\u001b[0m \u001b[32m━━━━━━━━━━━━━━━━━━━━\u001b[0m\u001b[37m\u001b[0m \u001b[1m6s\u001b[0m 230ms/step - activation_1_accuracy: 0.7459 - activation_accuracy: 0.7916 - loss: 1.6258 - val_activation_1_accuracy: 0.8500 - val_activation_accuracy: 0.8500 - val_loss: 0.7679\n",
      "Epoch 4/50\n",
      "\u001b[1m25/25\u001b[0m \u001b[32m━━━━━━━━━━━━━━━━━━━━\u001b[0m\u001b[37m\u001b[0m \u001b[1m6s\u001b[0m 221ms/step - activation_1_accuracy: 0.8679 - activation_accuracy: 0.8838 - loss: 0.8244 - val_activation_1_accuracy: 0.9000 - val_activation_accuracy: 0.8500 - val_loss: 0.9797\n",
      "Epoch 5/50\n",
      "\u001b[1m25/25\u001b[0m \u001b[32m━━━━━━━━━━━━━━━━━━━━\u001b[0m\u001b[37m\u001b[0m \u001b[1m6s\u001b[0m 220ms/step - activation_1_accuracy: 0.9139 - activation_accuracy: 0.9442 - loss: 0.4363 - val_activation_1_accuracy: 0.8000 - val_activation_accuracy: 0.8000 - val_loss: 1.3855\n",
      "Epoch 6/50\n",
      "\u001b[1m25/25\u001b[0m \u001b[32m━━━━━━━━━━━━━━━━━━━━\u001b[0m\u001b[37m\u001b[0m \u001b[1m6s\u001b[0m 220ms/step - activation_1_accuracy: 0.9563 - activation_accuracy: 0.9685 - loss: 0.2942 - val_activation_1_accuracy: 0.9000 - val_activation_accuracy: 0.8500 - val_loss: 1.0654\n",
      "Epoch 7/50\n",
      "\u001b[1m25/25\u001b[0m \u001b[32m━━━━━━━━━━━━━━━━━━━━\u001b[0m\u001b[37m\u001b[0m \u001b[1m5s\u001b[0m 219ms/step - activation_1_accuracy: 0.9688 - activation_accuracy: 0.9658 - loss: 0.2062 - val_activation_1_accuracy: 0.8000 - val_activation_accuracy: 0.8000 - val_loss: 2.0692\n",
      "Epoch 8/50\n",
      "\u001b[1m25/25\u001b[0m \u001b[32m━━━━━━━━━━━━━━━━━━━━\u001b[0m\u001b[37m\u001b[0m \u001b[1m11s\u001b[0m 220ms/step - activation_1_accuracy: 0.9605 - activation_accuracy: 0.9532 - loss: 0.3358 - val_activation_1_accuracy: 0.9000 - val_activation_accuracy: 0.8500 - val_loss: 0.9155\n",
      "Epoch 9/50\n",
      "\u001b[1m25/25\u001b[0m \u001b[32m━━━━━━━━━━━━━━━━━━━━\u001b[0m\u001b[37m\u001b[0m \u001b[1m5s\u001b[0m 220ms/step - activation_1_accuracy: 0.9826 - activation_accuracy: 0.9609 - loss: 0.2131 - val_activation_1_accuracy: 0.8500 - val_activation_accuracy: 0.8000 - val_loss: 1.7098\n",
      "Epoch 10/50\n",
      "\u001b[1m25/25\u001b[0m \u001b[32m━━━━━━━━━━━━━━━━━━━━\u001b[0m\u001b[37m\u001b[0m \u001b[1m6s\u001b[0m 220ms/step - activation_1_accuracy: 0.9693 - activation_accuracy: 0.9683 - loss: 0.1353 - val_activation_1_accuracy: 0.9000 - val_activation_accuracy: 0.9500 - val_loss: 1.3912\n",
      "Epoch 11/50\n",
      "\u001b[1m25/25\u001b[0m \u001b[32m━━━━━━━━━━━━━━━━━━━━\u001b[0m\u001b[37m\u001b[0m \u001b[1m6s\u001b[0m 220ms/step - activation_1_accuracy: 0.9932 - activation_accuracy: 0.9863 - loss: 0.1035 - val_activation_1_accuracy: 0.9000 - val_activation_accuracy: 0.9000 - val_loss: 1.1262\n",
      "Epoch 12/50\n",
      "\u001b[1m25/25\u001b[0m \u001b[32m━━━━━━━━━━━━━━━━━━━━\u001b[0m\u001b[37m\u001b[0m \u001b[1m6s\u001b[0m 220ms/step - activation_1_accuracy: 0.9964 - activation_accuracy: 0.9919 - loss: 0.0505 - val_activation_1_accuracy: 0.9000 - val_activation_accuracy: 0.9000 - val_loss: 1.3605\n",
      "Epoch 13/50\n",
      "\u001b[1m25/25\u001b[0m \u001b[32m━━━━━━━━━━━━━━━━━━━━\u001b[0m\u001b[37m\u001b[0m \u001b[1m6s\u001b[0m 220ms/step - activation_1_accuracy: 0.9983 - activation_accuracy: 0.9905 - loss: 0.0660 - val_activation_1_accuracy: 0.8500 - val_activation_accuracy: 0.7000 - val_loss: 2.0329\n",
      "Epoch 14/50\n",
      "\u001b[1m25/25\u001b[0m \u001b[32m━━━━━━━━━━━━━━━━━━━━\u001b[0m\u001b[37m\u001b[0m \u001b[1m6s\u001b[0m 220ms/step - activation_1_accuracy: 0.9927 - activation_accuracy: 0.9624 - loss: 0.1590 - val_activation_1_accuracy: 0.8500 - val_activation_accuracy: 0.8000 - val_loss: 1.5068\n",
      "Epoch 15/50\n",
      "\u001b[1m25/25\u001b[0m \u001b[32m━━━━━━━━━━━━━━━━━━━━\u001b[0m\u001b[37m\u001b[0m \u001b[1m5s\u001b[0m 220ms/step - activation_1_accuracy: 0.9935 - activation_accuracy: 0.9889 - loss: 0.0571 - val_activation_1_accuracy: 0.8500 - val_activation_accuracy: 0.8500 - val_loss: 1.0773\n",
      "Epoch 16/50\n",
      "\u001b[1m25/25\u001b[0m \u001b[32m━━━━━━━━━━━━━━━━━━━━\u001b[0m\u001b[37m\u001b[0m \u001b[1m5s\u001b[0m 220ms/step - activation_1_accuracy: 0.9909 - activation_accuracy: 0.9903 - loss: 0.0633 - val_activation_1_accuracy: 0.9000 - val_activation_accuracy: 0.8500 - val_loss: 1.4442\n",
      "Epoch 17/50\n",
      "\u001b[1m25/25\u001b[0m \u001b[32m━━━━━━━━━━━━━━━━━━━━\u001b[0m\u001b[37m\u001b[0m \u001b[1m6s\u001b[0m 220ms/step - activation_1_accuracy: 0.9795 - activation_accuracy: 0.9906 - loss: 0.0769 - val_activation_1_accuracy: 0.9000 - val_activation_accuracy: 0.8000 - val_loss: 2.3818\n",
      "Epoch 18/50\n",
      "\u001b[1m25/25\u001b[0m \u001b[32m━━━━━━━━━━━━━━━━━━━━\u001b[0m\u001b[37m\u001b[0m \u001b[1m5s\u001b[0m 219ms/step - activation_1_accuracy: 0.9833 - activation_accuracy: 0.9842 - loss: 0.1240 - val_activation_1_accuracy: 0.8000 - val_activation_accuracy: 0.8500 - val_loss: 2.6029\n",
      "Epoch 19/50\n",
      "\u001b[1m25/25\u001b[0m \u001b[32m━━━━━━━━━━━━━━━━━━━━\u001b[0m\u001b[37m\u001b[0m \u001b[1m5s\u001b[0m 219ms/step - activation_1_accuracy: 0.9833 - activation_accuracy: 0.9633 - loss: 0.1512 - val_activation_1_accuracy: 0.9000 - val_activation_accuracy: 0.9000 - val_loss: 0.9112\n",
      "Epoch 20/50\n",
      "\u001b[1m25/25\u001b[0m \u001b[32m━━━━━━━━━━━━━━━━━━━━\u001b[0m\u001b[37m\u001b[0m \u001b[1m5s\u001b[0m 219ms/step - activation_1_accuracy: 0.9839 - activation_accuracy: 0.9705 - loss: 0.1863 - val_activation_1_accuracy: 0.9000 - val_activation_accuracy: 0.9000 - val_loss: 1.1697\n",
      "Epoch 21/50\n",
      "\u001b[1m25/25\u001b[0m \u001b[32m━━━━━━━━━━━━━━━━━━━━\u001b[0m\u001b[37m\u001b[0m \u001b[1m5s\u001b[0m 219ms/step - activation_1_accuracy: 0.9651 - activation_accuracy: 0.9611 - loss: 0.2398 - val_activation_1_accuracy: 0.9000 - val_activation_accuracy: 0.8500 - val_loss: 1.1068\n",
      "Epoch 22/50\n",
      "\u001b[1m25/25\u001b[0m \u001b[32m━━━━━━━━━━━━━━━━━━━━\u001b[0m\u001b[37m\u001b[0m \u001b[1m5s\u001b[0m 219ms/step - activation_1_accuracy: 0.9645 - activation_accuracy: 1.0000 - loss: 0.1126 - val_activation_1_accuracy: 0.8500 - val_activation_accuracy: 0.8500 - val_loss: 1.7662\n",
      "Epoch 23/50\n",
      "\u001b[1m25/25\u001b[0m \u001b[32m━━━━━━━━━━━━━━━━━━━━\u001b[0m\u001b[37m\u001b[0m \u001b[1m5s\u001b[0m 220ms/step - activation_1_accuracy: 0.9951 - activation_accuracy: 0.9898 - loss: 0.0556 - val_activation_1_accuracy: 0.9000 - val_activation_accuracy: 0.9000 - val_loss: 1.6178\n",
      "Epoch 24/50\n",
      "\u001b[1m25/25\u001b[0m \u001b[32m━━━━━━━━━━━━━━━━━━━━\u001b[0m\u001b[37m\u001b[0m \u001b[1m5s\u001b[0m 219ms/step - activation_1_accuracy: 1.0000 - activation_accuracy: 1.0000 - loss: 0.0296 - val_activation_1_accuracy: 0.9000 - val_activation_accuracy: 0.9000 - val_loss: 1.9402\n",
      "Epoch 25/50\n",
      "\u001b[1m25/25\u001b[0m \u001b[32m━━━━━━━━━━━━━━━━━━━━\u001b[0m\u001b[37m\u001b[0m \u001b[1m6s\u001b[0m 220ms/step - activation_1_accuracy: 1.0000 - activation_accuracy: 0.9903 - loss: 0.0292 - val_activation_1_accuracy: 0.9000 - val_activation_accuracy: 0.9000 - val_loss: 1.7686\n",
      "Epoch 26/50\n",
      "\u001b[1m25/25\u001b[0m \u001b[32m━━━━━━━━━━━━━━━━━━━━\u001b[0m\u001b[37m\u001b[0m \u001b[1m6s\u001b[0m 220ms/step - activation_1_accuracy: 1.0000 - activation_accuracy: 0.9988 - loss: 0.0235 - val_activation_1_accuracy: 0.9000 - val_activation_accuracy: 0.9000 - val_loss: 1.5197\n",
      "Epoch 27/50\n",
      "\u001b[1m25/25\u001b[0m \u001b[32m━━━━━━━━━━━━━━━━━━━━\u001b[0m\u001b[37m\u001b[0m \u001b[1m6s\u001b[0m 220ms/step - activation_1_accuracy: 0.9968 - activation_accuracy: 1.0000 - loss: 0.0128 - val_activation_1_accuracy: 0.9000 - val_activation_accuracy: 0.8500 - val_loss: 1.7491\n",
      "Epoch 28/50\n",
      "\u001b[1m25/25\u001b[0m \u001b[32m━━━━━━━━━━━━━━━━━━━━\u001b[0m\u001b[37m\u001b[0m \u001b[1m6s\u001b[0m 222ms/step - activation_1_accuracy: 1.0000 - activation_accuracy: 1.0000 - loss: 0.0088 - val_activation_1_accuracy: 0.8500 - val_activation_accuracy: 0.8500 - val_loss: 1.6693\n",
      "Epoch 29/50\n",
      "\u001b[1m25/25\u001b[0m \u001b[32m━━━━━━━━━━━━━━━━━━━━\u001b[0m\u001b[37m\u001b[0m \u001b[1m5s\u001b[0m 220ms/step - activation_1_accuracy: 1.0000 - activation_accuracy: 1.0000 - loss: 0.0093 - val_activation_1_accuracy: 0.8500 - val_activation_accuracy: 0.9000 - val_loss: 1.6202\n",
      "Epoch 30/50\n",
      "\u001b[1m25/25\u001b[0m \u001b[32m━━━━━━━━━━━━━━━━━━━━\u001b[0m\u001b[37m\u001b[0m \u001b[1m5s\u001b[0m 220ms/step - activation_1_accuracy: 1.0000 - activation_accuracy: 0.9954 - loss: 0.0103 - val_activation_1_accuracy: 0.9000 - val_activation_accuracy: 0.9000 - val_loss: 1.9003\n",
      "Epoch 31/50\n",
      "\u001b[1m25/25\u001b[0m \u001b[32m━━━━━━━━━━━━━━━━━━━━\u001b[0m\u001b[37m\u001b[0m \u001b[1m6s\u001b[0m 220ms/step - activation_1_accuracy: 0.9857 - activation_accuracy: 1.0000 - loss: 0.0498 - val_activation_1_accuracy: 0.8500 - val_activation_accuracy: 0.8500 - val_loss: 0.9168\n",
      "Epoch 32/50\n",
      "\u001b[1m25/25\u001b[0m \u001b[32m━━━━━━━━━━━━━━━━━━━━\u001b[0m\u001b[37m\u001b[0m \u001b[1m5s\u001b[0m 220ms/step - activation_1_accuracy: 0.9904 - activation_accuracy: 0.9977 - loss: 0.0674 - val_activation_1_accuracy: 0.7500 - val_activation_accuracy: 0.8000 - val_loss: 1.9676\n",
      "Epoch 33/50\n",
      "\u001b[1m25/25\u001b[0m \u001b[32m━━━━━━━━━━━━━━━━━━━━\u001b[0m\u001b[37m\u001b[0m \u001b[1m6s\u001b[0m 220ms/step - activation_1_accuracy: 0.9332 - activation_accuracy: 0.9326 - loss: 0.4567 - val_activation_1_accuracy: 0.9000 - val_activation_accuracy: 0.8500 - val_loss: 1.3277\n",
      "Epoch 34/50\n",
      "\u001b[1m25/25\u001b[0m \u001b[32m━━━━━━━━━━━━━━━━━━━━\u001b[0m\u001b[37m\u001b[0m \u001b[1m6s\u001b[0m 220ms/step - activation_1_accuracy: 0.9640 - activation_accuracy: 0.9676 - loss: 0.2975 - val_activation_1_accuracy: 0.9000 - val_activation_accuracy: 0.8500 - val_loss: 1.2172\n",
      "Epoch 35/50\n",
      "\u001b[1m25/25\u001b[0m \u001b[32m━━━━━━━━━━━━━━━━━━━━\u001b[0m\u001b[37m\u001b[0m \u001b[1m6s\u001b[0m 220ms/step - activation_1_accuracy: 0.9798 - activation_accuracy: 0.9661 - loss: 0.1758 - val_activation_1_accuracy: 0.8000 - val_activation_accuracy: 0.8500 - val_loss: 1.5844\n",
      "Epoch 36/50\n",
      "\u001b[1m25/25\u001b[0m \u001b[32m━━━━━━━━━━━━━━━━━━━━\u001b[0m\u001b[37m\u001b[0m \u001b[1m5s\u001b[0m 220ms/step - activation_1_accuracy: 0.9756 - activation_accuracy: 0.9911 - loss: 0.1420 - val_activation_1_accuracy: 0.9000 - val_activation_accuracy: 0.8500 - val_loss: 1.8301\n",
      "Epoch 37/50\n",
      "\u001b[1m25/25\u001b[0m \u001b[32m━━━━━━━━━━━━━━━━━━━━\u001b[0m\u001b[37m\u001b[0m \u001b[1m6s\u001b[0m 220ms/step - activation_1_accuracy: 0.9659 - activation_accuracy: 0.9655 - loss: 0.1865 - val_activation_1_accuracy: 0.9500 - val_activation_accuracy: 0.8000 - val_loss: 1.7988\n",
      "Epoch 38/50\n",
      "\u001b[1m25/25\u001b[0m \u001b[32m━━━━━━━━━━━━━━━━━━━━\u001b[0m\u001b[37m\u001b[0m \u001b[1m5s\u001b[0m 220ms/step - activation_1_accuracy: 0.9892 - activation_accuracy: 0.9803 - loss: 0.1184 - val_activation_1_accuracy: 0.9000 - val_activation_accuracy: 0.8000 - val_loss: 1.5748\n",
      "Epoch 39/50\n",
      "\u001b[1m25/25\u001b[0m \u001b[32m━━━━━━━━━━━━━━━━━━━━\u001b[0m\u001b[37m\u001b[0m \u001b[1m6s\u001b[0m 220ms/step - activation_1_accuracy: 0.9855 - activation_accuracy: 0.9881 - loss: 0.0925 - val_activation_1_accuracy: 0.9000 - val_activation_accuracy: 0.8500 - val_loss: 1.9391\n",
      "Epoch 40/50\n",
      "\u001b[1m25/25\u001b[0m \u001b[32m━━━━━━━━━━━━━━━━━━━━\u001b[0m\u001b[37m\u001b[0m \u001b[1m6s\u001b[0m 220ms/step - activation_1_accuracy: 0.9923 - activation_accuracy: 0.9983 - loss: 0.0451 - val_activation_1_accuracy: 0.8500 - val_activation_accuracy: 0.8000 - val_loss: 2.0638\n",
      "Epoch 41/50\n",
      "\u001b[1m25/25\u001b[0m \u001b[32m━━━━━━━━━━━━━━━━━━━━\u001b[0m\u001b[37m\u001b[0m \u001b[1m6s\u001b[0m 220ms/step - activation_1_accuracy: 0.9833 - activation_accuracy: 0.9729 - loss: 0.0928 - val_activation_1_accuracy: 0.9000 - val_activation_accuracy: 0.8500 - val_loss: 1.5383\n",
      "Epoch 42/50\n",
      "\u001b[1m25/25\u001b[0m \u001b[32m━━━━━━━━━━━━━━━━━━━━\u001b[0m\u001b[37m\u001b[0m \u001b[1m6s\u001b[0m 220ms/step - activation_1_accuracy: 1.0000 - activation_accuracy: 0.9870 - loss: 0.0459 - val_activation_1_accuracy: 0.8000 - val_activation_accuracy: 0.9000 - val_loss: 1.1034\n",
      "Epoch 43/50\n",
      "\u001b[1m25/25\u001b[0m \u001b[32m━━━━━━━━━━━━━━━━━━━━\u001b[0m\u001b[37m\u001b[0m \u001b[1m6s\u001b[0m 221ms/step - activation_1_accuracy: 0.9766 - activation_accuracy: 0.9810 - loss: 0.1158 - val_activation_1_accuracy: 0.8500 - val_activation_accuracy: 0.8500 - val_loss: 1.4587\n",
      "Epoch 44/50\n",
      "\u001b[1m25/25\u001b[0m \u001b[32m━━━━━━━━━━━━━━━━━━━━\u001b[0m\u001b[37m\u001b[0m \u001b[1m6s\u001b[0m 220ms/step - activation_1_accuracy: 0.9905 - activation_accuracy: 0.9826 - loss: 0.0848 - val_activation_1_accuracy: 0.8000 - val_activation_accuracy: 0.7500 - val_loss: 1.7292\n",
      "Epoch 45/50\n",
      "\u001b[1m25/25\u001b[0m \u001b[32m━━━━━━━━━━━━━━━━━━━━\u001b[0m\u001b[37m\u001b[0m \u001b[1m6s\u001b[0m 220ms/step - activation_1_accuracy: 0.9743 - activation_accuracy: 0.9720 - loss: 0.1630 - val_activation_1_accuracy: 0.8500 - val_activation_accuracy: 0.8000 - val_loss: 2.3503\n",
      "Epoch 46/50\n",
      "\u001b[1m25/25\u001b[0m \u001b[32m━━━━━━━━━━━━━━━━━━━━\u001b[0m\u001b[37m\u001b[0m \u001b[1m6s\u001b[0m 220ms/step - activation_1_accuracy: 0.9994 - activation_accuracy: 0.9968 - loss: 0.0532 - val_activation_1_accuracy: 0.8500 - val_activation_accuracy: 0.9000 - val_loss: 2.4079\n",
      "Epoch 47/50\n",
      "\u001b[1m25/25\u001b[0m \u001b[32m━━━━━━━━━━━━━━━━━━━━\u001b[0m\u001b[37m\u001b[0m \u001b[1m6s\u001b[0m 220ms/step - activation_1_accuracy: 0.9639 - activation_accuracy: 0.9843 - loss: 0.1784 - val_activation_1_accuracy: 0.8500 - val_activation_accuracy: 0.8000 - val_loss: 1.6132\n",
      "Epoch 48/50\n",
      "\u001b[1m25/25\u001b[0m \u001b[32m━━━━━━━━━━━━━━━━━━━━\u001b[0m\u001b[37m\u001b[0m \u001b[1m6s\u001b[0m 220ms/step - activation_1_accuracy: 1.0000 - activation_accuracy: 1.0000 - loss: 0.0464 - val_activation_1_accuracy: 0.8500 - val_activation_accuracy: 0.9000 - val_loss: 1.7813\n",
      "Epoch 49/50\n",
      "\u001b[1m25/25\u001b[0m \u001b[32m━━━━━━━━━━━━━━━━━━━━\u001b[0m\u001b[37m\u001b[0m \u001b[1m6s\u001b[0m 222ms/step - activation_1_accuracy: 0.9980 - activation_accuracy: 1.0000 - loss: 0.0117 - val_activation_1_accuracy: 0.8500 - val_activation_accuracy: 0.9500 - val_loss: 1.8402\n",
      "Epoch 50/50\n",
      "\u001b[1m25/25\u001b[0m \u001b[32m━━━━━━━━━━━━━━━━━━━━\u001b[0m\u001b[37m\u001b[0m \u001b[1m6s\u001b[0m 220ms/step - activation_1_accuracy: 1.0000 - activation_accuracy: 1.0000 - loss: 0.0012 - val_activation_1_accuracy: 0.8500 - val_activation_accuracy: 0.9500 - val_loss: 1.8183\n"
     ]
    }
   ],
   "source": [
    "#history=model.fit( x_train, y_train, epochs=50, batch_size=8, callbacks=[ExactMatch(x_eval, y_eval)])   #采用回调函数的验证集功能，可用设定每轮均保存模型\n",
    "history=model.fit( x_train, y_train, epochs=50, batch_size=8, validation_data=(x_eval, y_eval) )  #采用keras自身的验证集功能\n",
    "\n"
   ]
  },
  {
   "cell_type": "code",
   "execution_count": 20,
   "id": "959a78c0-9e38-40b1-a12a-86af04e215f1",
   "metadata": {},
   "outputs": [
    {
     "data": {
      "image/png": "[encoded data removed]",
      "text/plain": [
       "<Figure size 640x480 with 1 Axes>"
      ]
     },
     "metadata": {},
     "output_type": "display_data"
    },
    {
     "data": {
      "image/png": "[encoded data removed]",
      "text/plain": [
       "<Figure size 640x480 with 1 Axes>"
      ]
     },
     "metadata": {},
     "output_type": "display_data"
    }
   ],
   "source": [
    "\n",
    "with open(os.path.join('history.txt'), 'w') as file_object:\n",
    "    file_object.write(str(history.history))\n",
    "\n",
    "import matplotlib.pyplot as plt\n",
    "a=25\n",
    "acc = history.history['activation_1_accuracy'][0:a]\n",
    "val_acc = history.history['val_activation_1_accuracy'][0:a]\n",
    "loss = history.history['loss'][0:a]\n",
    "val_loss = history.history['val_loss'][0:a]\n",
    "epochs = range(1, len(loss) + 1)\n",
    "plt.plot(epochs, acc, 'bo', label='Training acc')\n",
    "plt.plot(epochs, val_acc, 'b', label='Validation acc')\n",
    "plt.title('Training and validation accuracy')\n",
    "plt.legend()\n",
    "plt.figure()\n",
    "plt.plot(epochs, loss, 'bo', label='Training loss')\n",
    "plt.plot(epochs, val_loss, 'b', label='Validation loss')\n",
    "plt.title('Training and validation loss')\n",
    "plt.legend()\n",
    "plt.show()"
   ]
  },
  {
   "cell_type": "code",
   "execution_count": 18,
   "id": "34f1837b-ed35-4b45-901d-e12c27225f39",
   "metadata": {},
   "outputs": [
    {
     "name": "stdout",
     "output_type": "stream",
     "text": [
      "\u001b[1m7/7\u001b[0m \u001b[32m━━━━━━━━━━━━━━━━━━━━\u001b[0m\u001b[37m\u001b[0m \u001b[1m2s\u001b[0m 370ms/step\n",
      "样本数量= 200\n",
      "精度=100% \n",
      "\n",
      "\u001b[1m1/1\u001b[0m \u001b[32m━━━━━━━━━━━━━━━━━━━━\u001b[0m\u001b[37m\u001b[0m \u001b[1m0s\u001b[0m 25ms/step\n",
      "样本数量= 20\n",
      "精度=85% \n",
      "\n",
      "\u001b[1m1/1\u001b[0m \u001b[32m━━━━━━━━━━━━━━━━━━━━\u001b[0m\u001b[37m\u001b[0m \u001b[1m0s\u001b[0m 25ms/step\n",
      "样本数量= 6\n",
      "精度=100% \n",
      "\n",
      "label= 169 170 \n",
      " 交 通\n",
      "预测= 169 170 \n",
      " 交 通 \n",
      "\n",
      "label= 13 16 \n",
      " 洪 水 主 流\n",
      "预测= 13 16 \n",
      " 洪 水 主 流 \n",
      "\n",
      "label= 196 206 \n",
      " 不 宜 设 计 成 平 坡 或 凹 曲 线\n",
      "预测= 196 206 \n",
      " 不 宜 设 计 成 平 坡 或 凹 曲 线 \n",
      "\n",
      "label= 68 69 \n",
      " 路 堤\n",
      "预测= 68 69 \n",
      " 路 堤 \n",
      "\n",
      "label= 136 171 \n",
      " 路 线 总 体 走 向 、 桥 区 地 质 、 地 形 、 安 全 通 行 、 通 航 、 已 有 建 筑 设 施 、 环 境 敏 感 区 等\n",
      "预测= 136 171 \n",
      " 路 线 总 体 走 向 、 桥 区 地 质 、 地 形 、 安 全 通 行 、 通 航 、 已 有 建 筑 设 施 、 环 境 敏 感 区 等 \n",
      "\n",
      "label= 358 361 \n",
      " 4. 0m\n",
      "预测= 358 361 \n",
      " 4. 0m \n",
      "\n"
     ]
    }
   ],
   "source": [
    "#用训练集、验证集、测试集的样本，预测\n",
    "predict_result(x_train, y_train, show=False) \n",
    "predict_result(x_eval, y_eval, show=False) \n",
    "predict_result(x_test, y_test, show=True) "
   ]
  },
  {
   "cell_type": "code",
   "execution_count": null,
   "id": "6163f641-18fc-4bc8-8672-cde5cc56e4db",
   "metadata": {},
   "outputs": [],
   "source": []
  }
 ],
 "metadata": {
  "kernelspec": {
   "display_name": "Python 3 (ipykernel)",
   "language": "python",
   "name": "python3"
  },
  "language_info": {
   "codemirror_mode": {
    "name": "ipython",
    "version": 3
   },
   "file_extension": ".py",
   "mimetype": "text/x-python",
   "name": "python",
   "nbconvert_exporter": "python",
   "pygments_lexer": "ipython3",
   "version": "3.10.13"
  }
 },
 "nbformat": 4,
 "nbformat_minor": 5
}
